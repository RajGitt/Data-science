{
 "cells": [
  {
   "cell_type": "code",
   "execution_count": 1,
   "id": "54d616fb-775d-4a44-b77f-751110ec632c",
   "metadata": {},
   "outputs": [],
   "source": [
    "import numpy as np\n",
    "import pandas as pd\n",
    "import random\n",
    "from scipy.spatial.distance import cdist"
   ]
  },
  {
   "cell_type": "code",
   "execution_count": 2,
   "id": "3a4feb52-6bc9-4365-ad3d-c3d34a46a1b2",
   "metadata": {},
   "outputs": [],
   "source": [
    "# Load data\n",
    "restaurants = pd.read_csv(\"restaurants.csv\")\n",
    "customers = pd.read_csv(\"customers.csv\")\n",
    "riders = pd.read_csv(\"riders.csv\")\n",
    "riders_info = pd.read_csv(\"riders_info.csv\")"
   ]
  },
  {
   "cell_type": "code",
   "execution_count": 3,
   "id": "06abcb6e-d507-4d34-a386-0bd99fee6cd6",
   "metadata": {},
   "outputs": [],
   "source": [
    "# Extract coordinates\n",
    "restaurant_coords = restaurants[['latitude', 'longitude']].values\n",
    "customer_coords = customers[['latitude', 'longitude']].values\n",
    "rider_coords = riders[['latitude', 'longitude']].values"
   ]
  },
  {
   "cell_type": "code",
   "execution_count": 4,
   "id": "1cf16cb6-3a52-4b9a-b21f-1f71270c8422",
   "metadata": {},
   "outputs": [],
   "source": [
    "# Compute distance matrices\n",
    "distance_restaurant_customer = cdist(restaurant_coords, customer_coords, metric='euclidean')\n",
    "distance_rider_restaurant = cdist(rider_coords, restaurant_coords, metric='euclidean')"
   ]
  },
  {
   "cell_type": "code",
   "execution_count": 5,
   "id": "4190879c-7574-4bb4-b53b-2e69f9ea58ae",
   "metadata": {},
   "outputs": [],
   "source": [
    "def initial_assignment():\n",
    "    assignments = {}\n",
    "    rider_load = {rider_id: 0 for rider_id in riders_info.rider_id}\n",
    "    rider_capacity = {rider_id: cap for rider_id, cap in zip(riders_info.rider_id, riders_info.capacity)}\n",
    "    \n",
    "    for i, customer in enumerate(customers.itertuples()):\n",
    "        nearest_restaurant_idx = np.argmin(distance_restaurant_customer[:, i])\n",
    "        possible_riders = [(idx, riders.iloc[idx]['rider_id']) for idx in np.argsort(distance_rider_restaurant[:, nearest_restaurant_idx])]\n",
    "        \n",
    "        for rider_idx, rider_id in possible_riders:\n",
    "            if rider_load[rider_id] < rider_capacity[rider_id]:\n",
    "                assignments[customer.customer_id] = (restaurants.iloc[nearest_restaurant_idx]['restaurant_id'], rider_id)\n",
    "                rider_load[rider_id] += 1\n",
    "                break\n",
    "    return assignments\n",
    "\n",
    "assignments = initial_assignment()"
   ]
  },
  {
   "cell_type": "code",
   "execution_count": 6,
   "id": "5d14a614-7bd6-487b-9d31-6b740ada1602",
   "metadata": {},
   "outputs": [],
   "source": [
    "# RL-based dynamic reassignment\n",
    "class RiderAssignmentRL:\n",
    "    def __init__(self, num_riders, num_restaurants, num_customers):\n",
    "        self.num_riders = num_riders\n",
    "        self.num_restaurants = num_restaurants\n",
    "        self.num_customers = num_customers\n",
    "        self.q_table = np.zeros((num_riders, num_customers))\n",
    "        self.learning_rate = 0.1\n",
    "        self.discount_factor = 0.9\n",
    "        self.epsilon = 0.2\n",
    "\n",
    "    def choose_action(self, state):\n",
    "        if random.uniform(0, 1) < self.epsilon:\n",
    "            return random.randint(0, self.num_riders - 1)  # Explore\n",
    "        return np.argmax(self.q_table[:, state])  # Exploit\n",
    "\n",
    "    def update_q_table(self, rider, customer, reward):\n",
    "        best_next_action = np.max(self.q_table[:, customer])\n",
    "        self.q_table[rider, customer] += self.learning_rate * (reward + self.discount_factor * best_next_action - self.q_table[rider, customer])\n",
    "\n",
    "    def train(self, epochs=1000):\n",
    "        for _ in range(epochs):\n",
    "            for customer in range(self.num_customers):\n",
    "                assigned_rider = self.choose_action(customer)\n",
    "                rest_idx = np.argmin(distance_restaurant_customer[:, customer])\n",
    "                reward = - (distance_restaurant_customer[rest_idx, customer] + distance_rider_restaurant[assigned_rider, rest_idx])\n",
    "                self.update_q_table(assigned_rider, customer, reward)"
   ]
  },
  {
   "cell_type": "code",
   "execution_count": 7,
   "id": "50923b3b-ebb3-49c1-921a-09a89ad1adae",
   "metadata": {},
   "outputs": [],
   "source": [
    "rl_model = RiderAssignmentRL(len(riders), len(restaurants), len(customers))\n",
    "rl_model.train()"
   ]
  },
  {
   "cell_type": "code",
   "execution_count": 8,
   "id": "6f678c41-cbb5-4d6f-9d23-e71cb234370e",
   "metadata": {},
   "outputs": [],
   "source": [
    "def evaluate_assignments(assignments):\n",
    "    total_distance = 0\n",
    "    for customer, (restaurant, rider) in assignments.items():\n",
    "        rest_idx = restaurants[restaurants.restaurant_id == restaurant].index[0]\n",
    "        cust_idx = customers[customers.customer_id == customer].index[0]\n",
    "        rider_idx = riders[riders.rider_id == rider].index[0]\n",
    "        total_distance += distance_restaurant_customer[rest_idx, cust_idx] + distance_rider_restaurant[rider_idx, rest_idx]\n",
    "    return total_distance / len(assignments)"
   ]
  },
  {
   "cell_type": "code",
   "execution_count": 9,
   "id": "cbaa925f-4ee6-499b-a213-4922974dbc6f",
   "metadata": {},
   "outputs": [
    {
     "name": "stdout",
     "output_type": "stream",
     "text": [
      "Average Distance per Assignment: 0.008979330884239807\n"
     ]
    }
   ],
   "source": [
    "evaluation_score = evaluate_assignments(assignments)\n",
    "print(\"Average Distance per Assignment:\", evaluation_score)"
   ]
  },
  {
   "cell_type": "code",
   "execution_count": null,
   "id": "1a202cae-f71d-439b-82f9-2f5db04ef7ea",
   "metadata": {},
   "outputs": [],
   "source": []
  }
 ],
 "metadata": {
  "kernelspec": {
   "display_name": "Python 3 (ipykernel)",
   "language": "python",
   "name": "python3"
  },
  "language_info": {
   "codemirror_mode": {
    "name": "ipython",
    "version": 3
   },
   "file_extension": ".py",
   "mimetype": "text/x-python",
   "name": "python",
   "nbconvert_exporter": "python",
   "pygments_lexer": "ipython3",
   "version": "3.11.7"
  }
 },
 "nbformat": 4,
 "nbformat_minor": 5
}
