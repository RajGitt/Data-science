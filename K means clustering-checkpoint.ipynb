{
 "cells": [
  {
   "cell_type": "markdown",
   "id": "50ed1b70-f356-4ab8-a45b-a95867d2b92c",
   "metadata": {},
   "source": [
    "#There are three types of machine learning\n",
    "\n",
    "1) Supervised learning:- In supervised learning we have both the input data and the output data and then we train the model. for example, as we are telling the kid that this is cow or goat by showing the image, so that the image is the input and the name cow or goat is the label(output).\n",
    "   ex. Linear regression, logistic regression, Decision Tree, Random Forest Classifier, Support Vector Machine\n",
    "3) Unsupervised learning:- In unsupervised learning we only have input and no output and we have to find the structure to study the characteristics of the data. We use Unsupervised learning for document classification, fraud detection(so if we find that in the store, the transaction made was fraund, so when we do clustering that time if any data comes into the clusster same as where the fraud was detected then the possibility of becoming of those data as fraud is high)."
   ]
  },
  {
   "cell_type": "markdown",
   "id": "7c724c89-d7c1-4fd8-9948-3f5ebd6ab7ed",
   "metadata": {},
   "source": [
    "<mark>K means clustering:- K means clustering is an unsupervised machine learning algorithm, where we only have an input and does'nt have any ouput, so we structure the dataset to study the characteristics of the dataset."
   ]
  },
  {
   "cell_type": "markdown",
   "id": "10b4f092-69ff-44e4-9f7b-43636aa33cfb",
   "metadata": {},
   "source": [
    "#Here in the K means clustering we can define how many cluster of data we want by k=?, then the K means clustering would give us that many clusters of data.\n",
    "\n",
    "<br>So, how does the K means clustering, clusters the data, so at first when we define k=2, then it takes 2 centroids and those centroids would be placed in the graph randomly, and this is all done by making a straight line connecting the centroids and passing a perpendicular line through the  line connecting two centroids.so K means clustering finds the distance between the data points to the centroids and whichever data is closer to one centriod becomes a part of that centroid and whichever data is near to the other centroids comes under that centroid, but there could be misrepresentation of data into clusters(as less data in one centroid and more in other), so the k means clustering algorithm would iterate till the centroids are in the centre of the clusters and representing the data of clusters perfectly, so the K means clustering tries to find the center point of cluster where if we have assaigned K means clustering K=2 then it would make the 2 clusters in a way that all the data represents perfectly and comes under the right cluster."
   ]
  },
  {
   "cell_type": "markdown",
   "id": "323864aa-2644-4bc3-9070-3ff357f733a6",
   "metadata": {},
   "source": [
    "But how to choose the right values of k(cluster to be formed in the dataset), as it is a subjective matter as one can make 2,3,4,5,6 or 11 clusters of 11 data in a dataset. So we would find teh right value for K(cluster) by the <mark>Elbow technique</mark>\n",
    "\n",
    "<br><b>In elbow technique</b>, if we have 11 data in a dataset then in elbow technique we would try to find the distance from the each data points in cluster to the centriod in cluster and will square it, take the sum of squares error(SSE=$summation (xi - c1)^2$) and we will do it til 11 clusters."
   ]
  },
  {
   "cell_type": "code",
   "execution_count": 255,
   "id": "41a0ebf8-b504-4936-b9a9-da27af0cd5cb",
   "metadata": {},
   "outputs": [],
   "source": [
    "d={\"Name\":['Jetha','Babita','Daya','Tarak mehta','Sodhi','Anjali','Iyer','Roshan','Komal','Hathi','Bapuji','Abdul','Sonu','Pinku','Tappu','Gogi','Goli','Popatlal','Bhidhe','Madhavi','Pandeyji','Natukaka','Bhagha','Bawri'],\n",
    "   \"Age\":[55,42,46,52,50,44,51,43,48,56,69,40,13,15,12,11,14,50,54,44,56,65,47,38],\"Income\":[70000,90000,61000,60000,150000,160000,162000,156000,130000,\n",
    "    137000,45000,48000,51000,49500,53000,65000,63000,64000,80000,82000,58000,123000,22000,23650]}"
   ]
  },
  {
   "cell_type": "code",
   "execution_count": 257,
   "id": "b11e0b50-c804-4e70-9381-4c3c010f9341",
   "metadata": {},
   "outputs": [],
   "source": [
    "import pandas as pd\n",
    "df=pd.DataFrame(d)"
   ]
  },
  {
   "cell_type": "code",
   "execution_count": 258,
   "id": "e85603a4-c772-4e8b-8d56-ec73bcc43e04",
   "metadata": {},
   "outputs": [
    {
     "data": {
      "text/html": [
       "<div>\n",
       "<style scoped>\n",
       "    .dataframe tbody tr th:only-of-type {\n",
       "        vertical-align: middle;\n",
       "    }\n",
       "\n",
       "    .dataframe tbody tr th {\n",
       "        vertical-align: top;\n",
       "    }\n",
       "\n",
       "    .dataframe thead th {\n",
       "        text-align: right;\n",
       "    }\n",
       "</style>\n",
       "<table border=\"1\" class=\"dataframe\">\n",
       "  <thead>\n",
       "    <tr style=\"text-align: right;\">\n",
       "      <th></th>\n",
       "      <th>Name</th>\n",
       "      <th>Age</th>\n",
       "      <th>Income</th>\n",
       "    </tr>\n",
       "  </thead>\n",
       "  <tbody>\n",
       "    <tr>\n",
       "      <th>0</th>\n",
       "      <td>Jetha</td>\n",
       "      <td>55</td>\n",
       "      <td>70000</td>\n",
       "    </tr>\n",
       "    <tr>\n",
       "      <th>1</th>\n",
       "      <td>Babita</td>\n",
       "      <td>42</td>\n",
       "      <td>90000</td>\n",
       "    </tr>\n",
       "    <tr>\n",
       "      <th>2</th>\n",
       "      <td>Daya</td>\n",
       "      <td>46</td>\n",
       "      <td>61000</td>\n",
       "    </tr>\n",
       "    <tr>\n",
       "      <th>3</th>\n",
       "      <td>Tarak mehta</td>\n",
       "      <td>52</td>\n",
       "      <td>60000</td>\n",
       "    </tr>\n",
       "    <tr>\n",
       "      <th>4</th>\n",
       "      <td>Sodhi</td>\n",
       "      <td>50</td>\n",
       "      <td>150000</td>\n",
       "    </tr>\n",
       "  </tbody>\n",
       "</table>\n",
       "</div>"
      ],
      "text/plain": [
       "          Name  Age  Income\n",
       "0        Jetha   55   70000\n",
       "1       Babita   42   90000\n",
       "2         Daya   46   61000\n",
       "3  Tarak mehta   52   60000\n",
       "4        Sodhi   50  150000"
      ]
     },
     "execution_count": 258,
     "metadata": {},
     "output_type": "execute_result"
    }
   ],
   "source": [
    "df.head()"
   ]
  },
  {
   "cell_type": "code",
   "execution_count": 259,
   "id": "88d346f4-2e5f-4963-bff0-76ac7e57c772",
   "metadata": {},
   "outputs": [],
   "source": [
    "import matplotlib.pyplot as plt\n",
    "%matplotlib inline"
   ]
  },
  {
   "cell_type": "code",
   "execution_count": 260,
   "id": "ea4d2a39-fa6f-4b00-9695-6f1d82397a5e",
   "metadata": {},
   "outputs": [
    {
     "data": {
      "text/plain": [
       "<matplotlib.collections.PathCollection at 0x27374a92690>"
      ]
     },
     "execution_count": 260,
     "metadata": {},
     "output_type": "execute_result"
    },
    {
     "data": {
      "image/png": "[encoded data removed]",
      "text/plain": [
       "<Figure size 640x480 with 1 Axes>"
      ]
     },
     "metadata": {},
     "output_type": "display_data"
    }
   ],
   "source": [
    "#now we are trying to plot the data for better data visualization.\n",
    "plt.scatter(df.Age,df[\"Income\"])"
   ]
  },
  {
   "cell_type": "code",
   "execution_count": 261,
   "id": "ecf146f2-ab27-4a3e-8124-f419d78ea479",
   "metadata": {},
   "outputs": [],
   "source": [
    "#so here as we can see that we could make 3 clusters of data in a dataset\n",
    "#here we are importing k means cluster\n",
    "from sklearn.cluster import KMeans\n",
    "km = KMeans(n_clusters=3)"
   ]
  },
  {
   "cell_type": "code",
   "execution_count": 262,
   "id": "84da52a4-45aa-4640-bb01-f98df3654279",
   "metadata": {},
   "outputs": [
    {
     "name": "stderr",
     "output_type": "stream",
     "text": [
      "C:\\Users\\Hp\\anaconda3\\Lib\\site-packages\\sklearn\\cluster\\_kmeans.py:870: FutureWarning: The default value of `n_init` will change from 10 to 'auto' in 1.4. Set the value of `n_init` explicitly to suppress the warning\n",
      "  warnings.warn(\n",
      "C:\\Users\\Hp\\anaconda3\\Lib\\site-packages\\sklearn\\cluster\\_kmeans.py:1382: UserWarning: KMeans is known to have a memory leak on Windows with MKL, when there are less chunks than available threads. You can avoid it by setting the environment variable OMP_NUM_THREADS=1.\n",
      "  warnings.warn(\n"
     ]
    },
    {
     "data": {
      "text/plain": [
       "array([2, 2, 2, 2, 1, 1, 1, 1, 1, 1, 0, 0, 0, 0, 0, 2, 2, 2, 2, 2, 2, 1,\n",
       "       0, 0])"
      ]
     },
     "execution_count": 262,
     "metadata": {},
     "output_type": "execute_result"
    }
   ],
   "source": [
    "#here as we have seen in the supervised learning algorithms, we used to fit the data to be traine and then we used to predict the models accuracy, but\n",
    "#in K means learning(Unsupervised learning algorithm), we can fit and predict the model at once.\n",
    "y_pred = km.fit_predict(df[[\"Age\",\"Income\"]])     #2 brackets because the features will have 2-D array(2 columns)\n",
    "y_pred\n",
    "#here the data would be converted into 3 clusters- 0,1,2"
   ]
  },
  {
   "cell_type": "code",
   "execution_count": 266,
   "id": "a3335d07-ba62-4635-ab6b-c1970569b243",
   "metadata": {},
   "outputs": [
    {
     "data": {
      "text/html": [
       "<div>\n",
       "<style scoped>\n",
       "    .dataframe tbody tr th:only-of-type {\n",
       "        vertical-align: middle;\n",
       "    }\n",
       "\n",
       "    .dataframe tbody tr th {\n",
       "        vertical-align: top;\n",
       "    }\n",
       "\n",
       "    .dataframe thead th {\n",
       "        text-align: right;\n",
       "    }\n",
       "</style>\n",
       "<table border=\"1\" class=\"dataframe\">\n",
       "  <thead>\n",
       "    <tr style=\"text-align: right;\">\n",
       "      <th></th>\n",
       "      <th>Name</th>\n",
       "      <th>Age</th>\n",
       "      <th>Income</th>\n",
       "      <th>clusters</th>\n",
       "    </tr>\n",
       "  </thead>\n",
       "  <tbody>\n",
       "    <tr>\n",
       "      <th>0</th>\n",
       "      <td>Jetha</td>\n",
       "      <td>55</td>\n",
       "      <td>70000</td>\n",
       "      <td>2</td>\n",
       "    </tr>\n",
       "    <tr>\n",
       "      <th>1</th>\n",
       "      <td>Babita</td>\n",
       "      <td>42</td>\n",
       "      <td>90000</td>\n",
       "      <td>2</td>\n",
       "    </tr>\n",
       "    <tr>\n",
       "      <th>2</th>\n",
       "      <td>Daya</td>\n",
       "      <td>46</td>\n",
       "      <td>61000</td>\n",
       "      <td>2</td>\n",
       "    </tr>\n",
       "    <tr>\n",
       "      <th>3</th>\n",
       "      <td>Tarak mehta</td>\n",
       "      <td>52</td>\n",
       "      <td>60000</td>\n",
       "      <td>2</td>\n",
       "    </tr>\n",
       "    <tr>\n",
       "      <th>4</th>\n",
       "      <td>Sodhi</td>\n",
       "      <td>50</td>\n",
       "      <td>150000</td>\n",
       "      <td>1</td>\n",
       "    </tr>\n",
       "    <tr>\n",
       "      <th>5</th>\n",
       "      <td>Anjali</td>\n",
       "      <td>44</td>\n",
       "      <td>160000</td>\n",
       "      <td>1</td>\n",
       "    </tr>\n",
       "    <tr>\n",
       "      <th>6</th>\n",
       "      <td>Iyer</td>\n",
       "      <td>51</td>\n",
       "      <td>162000</td>\n",
       "      <td>1</td>\n",
       "    </tr>\n",
       "    <tr>\n",
       "      <th>7</th>\n",
       "      <td>Roshan</td>\n",
       "      <td>43</td>\n",
       "      <td>156000</td>\n",
       "      <td>1</td>\n",
       "    </tr>\n",
       "    <tr>\n",
       "      <th>8</th>\n",
       "      <td>Komal</td>\n",
       "      <td>48</td>\n",
       "      <td>130000</td>\n",
       "      <td>1</td>\n",
       "    </tr>\n",
       "    <tr>\n",
       "      <th>9</th>\n",
       "      <td>Hathi</td>\n",
       "      <td>56</td>\n",
       "      <td>137000</td>\n",
       "      <td>1</td>\n",
       "    </tr>\n",
       "  </tbody>\n",
       "</table>\n",
       "</div>"
      ],
      "text/plain": [
       "          Name  Age  Income  clusters\n",
       "0        Jetha   55   70000         2\n",
       "1       Babita   42   90000         2\n",
       "2         Daya   46   61000         2\n",
       "3  Tarak mehta   52   60000         2\n",
       "4        Sodhi   50  150000         1\n",
       "5       Anjali   44  160000         1\n",
       "6         Iyer   51  162000         1\n",
       "7       Roshan   43  156000         1\n",
       "8        Komal   48  130000         1\n",
       "9        Hathi   56  137000         1"
      ]
     },
     "execution_count": 266,
     "metadata": {},
     "output_type": "execute_result"
    }
   ],
   "source": [
    "#here the data has been converted into 3 clusters as we have choosen (n_clusters=3)\n",
    "df[\"clusters\"]=y_pred   #making a new column with the cluster data\n",
    "df.head(10)"
   ]
  },
  {
   "cell_type": "code",
   "execution_count": 267,
   "id": "95a591ed-ffbb-4bee-9642-d85e5f2efc7b",
   "metadata": {},
   "outputs": [
    {
     "data": {
      "text/plain": [
       "array([[3.34285714e+01, 4.17357143e+04],\n",
       "       [5.10000000e+01, 1.45428571e+05],\n",
       "       [4.24000000e+01, 6.93000000e+04]])"
      ]
     },
     "execution_count": 267,
     "metadata": {},
     "output_type": "execute_result"
    }
   ],
   "source": [
    "#we can check the centroid value as well\n",
    "km.cluster_centers_    #centroids and we will get three centroids for three clusters."
   ]
  },
  {
   "cell_type": "code",
   "execution_count": 268,
   "id": "5c56cf40-ac08-4cf1-9e04-074b8cce8b1e",
   "metadata": {},
   "outputs": [],
   "source": [
    "#now we are storing the values of different clusters into different variable as we are going to plot them on the graph\n",
    "df1 = df[df[\"clusters\"]==0]\n",
    "df2 = df[df[\"clusters\"]==1]\n",
    "df3 = df[df[\"clusters\"]==2]"
   ]
  },
  {
   "cell_type": "code",
   "execution_count": 269,
   "id": "9c63938c-1cea-4120-84db-168b0b1895a7",
   "metadata": {},
   "outputs": [
    {
     "data": {
      "text/plain": [
       "Text(0, 0.5, 'Income')"
      ]
     },
     "execution_count": 269,
     "metadata": {},
     "output_type": "execute_result"
    },
    {
     "data": {
      "image/png": "[encoded data removed]",
      "text/plain": [
       "<Figure size 640x480 with 1 Axes>"
      ]
     },
     "metadata": {},
     "output_type": "display_data"
    }
   ],
   "source": [
    "plt.scatter(df1.Age,df1[\"Income\"],color=\"green\")\n",
    "plt.scatter(df2.Age,df2[\"Income\"],color=\"red\")\n",
    "plt.scatter(df3.Age,df3[\"Income\"],color=\"yellow\")\n",
    "plt.xlabel(\"Age\")\n",
    "plt.ylabel(\"Income\")"
   ]
  },
  {
   "cell_type": "markdown",
   "id": "d5f07b83-6cbf-47e8-9ace-1816ee5c33cb",
   "metadata": {},
   "source": [
    "#here the data in a cluster is misproper because of the scaling(as we can see that the Income axis has scaling from 20000 to 160000 and Age axis has scaling from 10 to 70)"
   ]
  },
  {
   "cell_type": "code",
   "execution_count": 273,
   "id": "8a6fe5a7-58e6-42c2-95ac-43349dcec737",
   "metadata": {},
   "outputs": [],
   "source": [
    "#so we would do the scaling by using min max scaler (scale from 0 to 1)\n",
    "from sklearn.preprocessing import MinMaxScaler\n",
    "scaler = MinMaxScaler()"
   ]
  },
  {
   "cell_type": "code",
   "execution_count": 274,
   "id": "66545e87-400f-478a-bcbc-689394c06c3c",
   "metadata": {},
   "outputs": [],
   "source": [
    "scaler.fit(df[[\"Income\"]])    #fit will take the column as an input asn will read the data\n",
    "df[\"Income\"] = scaler.transform(df[[\"Income\"]])     #transform will transform the column data into scaled data\n",
    "\n",
    "scaler.fit(df[[\"Age\"]])\n",
    "df[[\"Age\"]] = scaler.transform(df[[\"Age\"]])\n",
    "#here teh fit_transorm take the data into 2-D array(with 2 brackets)"
   ]
  },
  {
   "cell_type": "code",
   "execution_count": 275,
   "id": "83b8fb09-1307-4226-9b89-279ba0b83be7",
   "metadata": {},
   "outputs": [
    {
     "data": {
      "text/html": [
       "<div>\n",
       "<style scoped>\n",
       "    .dataframe tbody tr th:only-of-type {\n",
       "        vertical-align: middle;\n",
       "    }\n",
       "\n",
       "    .dataframe tbody tr th {\n",
       "        vertical-align: top;\n",
       "    }\n",
       "\n",
       "    .dataframe thead th {\n",
       "        text-align: right;\n",
       "    }\n",
       "</style>\n",
       "<table border=\"1\" class=\"dataframe\">\n",
       "  <thead>\n",
       "    <tr style=\"text-align: right;\">\n",
       "      <th></th>\n",
       "      <th>Name</th>\n",
       "      <th>Age</th>\n",
       "      <th>Income</th>\n",
       "      <th>clusters</th>\n",
       "    </tr>\n",
       "  </thead>\n",
       "  <tbody>\n",
       "    <tr>\n",
       "      <th>0</th>\n",
       "      <td>Jetha</td>\n",
       "      <td>0.758621</td>\n",
       "      <td>0.342857</td>\n",
       "      <td>2</td>\n",
       "    </tr>\n",
       "    <tr>\n",
       "      <th>1</th>\n",
       "      <td>Babita</td>\n",
       "      <td>0.534483</td>\n",
       "      <td>0.485714</td>\n",
       "      <td>2</td>\n",
       "    </tr>\n",
       "    <tr>\n",
       "      <th>2</th>\n",
       "      <td>Daya</td>\n",
       "      <td>0.603448</td>\n",
       "      <td>0.278571</td>\n",
       "      <td>2</td>\n",
       "    </tr>\n",
       "    <tr>\n",
       "      <th>3</th>\n",
       "      <td>Tarak mehta</td>\n",
       "      <td>0.706897</td>\n",
       "      <td>0.271429</td>\n",
       "      <td>2</td>\n",
       "    </tr>\n",
       "    <tr>\n",
       "      <th>4</th>\n",
       "      <td>Sodhi</td>\n",
       "      <td>0.672414</td>\n",
       "      <td>0.914286</td>\n",
       "      <td>1</td>\n",
       "    </tr>\n",
       "  </tbody>\n",
       "</table>\n",
       "</div>"
      ],
      "text/plain": [
       "          Name       Age    Income  clusters\n",
       "0        Jetha  0.758621  0.342857         2\n",
       "1       Babita  0.534483  0.485714         2\n",
       "2         Daya  0.603448  0.278571         2\n",
       "3  Tarak mehta  0.706897  0.271429         2\n",
       "4        Sodhi  0.672414  0.914286         1"
      ]
     },
     "execution_count": 275,
     "metadata": {},
     "output_type": "execute_result"
    }
   ],
   "source": [
    "df.head()   #seeing the normalized data/scaled data - Age and Income column."
   ]
  },
  {
   "cell_type": "code",
   "execution_count": 276,
   "id": "10b33470-4195-4970-93c6-ceddfbdff0e1",
   "metadata": {},
   "outputs": [
    {
     "data": {
      "text/plain": [
       "<matplotlib.collections.PathCollection at 0x27372f20310>"
      ]
     },
     "execution_count": 276,
     "metadata": {},
     "output_type": "execute_result"
    },
    {
     "data": {
      "image/png": "[encoded data removed]",
      "text/plain": [
       "<Figure size 640x480 with 1 Axes>"
      ]
     },
     "metadata": {},
     "output_type": "display_data"
    }
   ],
   "source": [
    "import matplotlib.pyplot as plt \n",
    "plt.scatter(df.Age,df[\"Income\"])    #it is showing us the same graph but with scaled axis."
   ]
  },
  {
   "cell_type": "code",
   "execution_count": 277,
   "id": "fd44bab5-9e78-4de8-b125-f999fdeba0ce",
   "metadata": {},
   "outputs": [],
   "source": [
    "from sklearn.cluster import KMeans\n",
    "km = KMeans(n_clusters=3)    #k(clusters of data)=3"
   ]
  },
  {
   "cell_type": "code",
   "execution_count": 278,
   "id": "0a5cb928-74fa-4517-a162-923dfa050266",
   "metadata": {},
   "outputs": [
    {
     "name": "stderr",
     "output_type": "stream",
     "text": [
      "C:\\Users\\Hp\\anaconda3\\Lib\\site-packages\\sklearn\\cluster\\_kmeans.py:870: FutureWarning: The default value of `n_init` will change from 10 to 'auto' in 1.4. Set the value of `n_init` explicitly to suppress the warning\n",
      "  warnings.warn(\n",
      "C:\\Users\\Hp\\anaconda3\\Lib\\site-packages\\sklearn\\cluster\\_kmeans.py:1382: UserWarning: KMeans is known to have a memory leak on Windows with MKL, when there are less chunks than available threads. You can avoid it by setting the environment variable OMP_NUM_THREADS=1.\n",
      "  warnings.warn(\n"
     ]
    },
    {
     "data": {
      "text/plain": [
       "array([0, 0, 0, 0, 1, 1, 1, 1, 1, 1, 0, 0, 2, 2, 2, 2, 2, 0, 0, 0, 0, 1,\n",
       "       0, 0])"
      ]
     },
     "execution_count": 278,
     "metadata": {},
     "output_type": "execute_result"
    }
   ],
   "source": [
    "#fitting and predicting the data at once in Kmeans clustering\n",
    "y_pred = km.fit_predict(df[[\"Age\",\"Income\"]])\n",
    "y_pred"
   ]
  },
  {
   "cell_type": "code",
   "execution_count": 279,
   "id": "21207695-ab6f-47ba-8328-6059fd4a67f9",
   "metadata": {},
   "outputs": [],
   "source": [
    "#nowcreating a variable cluster to save teh array of clusters 0,1,2 (3 clusters, as we have choosen to have 3 clusters)\n",
    "df[\"clusters\"] = y_pred"
   ]
  },
  {
   "cell_type": "code",
   "execution_count": 280,
   "id": "cdce66f7-74a8-4905-b06d-ab0845ba42a7",
   "metadata": {},
   "outputs": [
    {
     "data": {
      "text/html": [
       "<div>\n",
       "<style scoped>\n",
       "    .dataframe tbody tr th:only-of-type {\n",
       "        vertical-align: middle;\n",
       "    }\n",
       "\n",
       "    .dataframe tbody tr th {\n",
       "        vertical-align: top;\n",
       "    }\n",
       "\n",
       "    .dataframe thead th {\n",
       "        text-align: right;\n",
       "    }\n",
       "</style>\n",
       "<table border=\"1\" class=\"dataframe\">\n",
       "  <thead>\n",
       "    <tr style=\"text-align: right;\">\n",
       "      <th></th>\n",
       "      <th>Name</th>\n",
       "      <th>Age</th>\n",
       "      <th>Income</th>\n",
       "      <th>clusters</th>\n",
       "    </tr>\n",
       "  </thead>\n",
       "  <tbody>\n",
       "    <tr>\n",
       "      <th>0</th>\n",
       "      <td>Jetha</td>\n",
       "      <td>0.758621</td>\n",
       "      <td>0.342857</td>\n",
       "      <td>0</td>\n",
       "    </tr>\n",
       "    <tr>\n",
       "      <th>1</th>\n",
       "      <td>Babita</td>\n",
       "      <td>0.534483</td>\n",
       "      <td>0.485714</td>\n",
       "      <td>0</td>\n",
       "    </tr>\n",
       "    <tr>\n",
       "      <th>2</th>\n",
       "      <td>Daya</td>\n",
       "      <td>0.603448</td>\n",
       "      <td>0.278571</td>\n",
       "      <td>0</td>\n",
       "    </tr>\n",
       "    <tr>\n",
       "      <th>3</th>\n",
       "      <td>Tarak mehta</td>\n",
       "      <td>0.706897</td>\n",
       "      <td>0.271429</td>\n",
       "      <td>0</td>\n",
       "    </tr>\n",
       "    <tr>\n",
       "      <th>4</th>\n",
       "      <td>Sodhi</td>\n",
       "      <td>0.672414</td>\n",
       "      <td>0.914286</td>\n",
       "      <td>1</td>\n",
       "    </tr>\n",
       "  </tbody>\n",
       "</table>\n",
       "</div>"
      ],
      "text/plain": [
       "          Name       Age    Income  clusters\n",
       "0        Jetha  0.758621  0.342857         0\n",
       "1       Babita  0.534483  0.485714         0\n",
       "2         Daya  0.603448  0.278571         0\n",
       "3  Tarak mehta  0.706897  0.271429         0\n",
       "4        Sodhi  0.672414  0.914286         1"
      ]
     },
     "execution_count": 280,
     "metadata": {},
     "output_type": "execute_result"
    }
   ],
   "source": [
    "df.head()"
   ]
  },
  {
   "cell_type": "code",
   "execution_count": 285,
   "id": "79762cc9-733d-4864-b992-19b5167deffe",
   "metadata": {},
   "outputs": [
    {
     "data": {
      "text/plain": [
       "array([[0.66235632, 0.26169643],\n",
       "       [0.68965517, 0.88163265],\n",
       "       [0.03448276, 0.245     ]])"
      ]
     },
     "execution_count": 285,
     "metadata": {},
     "output_type": "execute_result"
    }
   ],
   "source": [
    "#checking the centroid values of clusters\n",
    "km.cluster_centers_"
   ]
  },
  {
   "cell_type": "code",
   "execution_count": null,
   "id": "4a4d18c6-78de-4164-80c0-4d93099b3d4d",
   "metadata": {},
   "outputs": [],
   "source": []
  },
  {
   "cell_type": "code",
   "execution_count": 296,
   "id": "4e245f39-65cf-4b37-8c63-1b57aa4a164f",
   "metadata": {},
   "outputs": [],
   "source": [
    "df1 = df[df[\"clusters\"]==0]\n",
    "df2 = df[df[\"clusters\"]==1]\n",
    "df3 = df[df[\"clusters\"]==2]"
   ]
  },
  {
   "cell_type": "code",
   "execution_count": 302,
   "id": "d4e45efd-22ed-49ac-be80-399b4a6462ca",
   "metadata": {},
   "outputs": [
    {
     "data": {
      "text/plain": [
       "<matplotlib.collections.PathCollection at 0x27375d43c50>"
      ]
     },
     "execution_count": 302,
     "metadata": {},
     "output_type": "execute_result"
    },
    {
     "data": {
      "image/png": "[encoded data removed]",
      "text/plain": [
       "<Figure size 640x480 with 1 Axes>"
      ]
     },
     "metadata": {},
     "output_type": "display_data"
    }
   ],
   "source": [
    "#now we will plot the graph on teh scatter plot\n",
    "plt.scatter(df1[\"Age\"],df1[\"Income\"],color=\"red\")\n",
    "plt.scatter(df2[\"Age\"],df2[\"Income\"],color=\"green\")\n",
    "plt.scatter(df3[\"Age\"],df3[\"Income\"],color=\"yellow\")\n",
    "plt.xlabel(\"Age\")\n",
    "plt.ylabel(\"Income\")\n",
    "#here we are printing the centroids onto the graph, the [:,0] is the Age column and [:,1] is the Income column\n",
    "plt.scatter(km.cluster_centers_[:,0],km.cluster_centers_[:,1],color=\"purple\",marker=\"*\",label=\"centroid\")"
   ]
  },
  {
   "cell_type": "markdown",
   "id": "1aa9c049-6be8-4a38-9a37-8eb8a411fe9c",
   "metadata": {},
   "source": [
    "#now the data has been perfectly clustered with their respective centriods."
   ]
  },
  {
   "cell_type": "code",
   "execution_count": 316,
   "id": "ef6af6b7-e49c-440e-b76c-1231f1aeba77",
   "metadata": {},
   "outputs": [
    {
     "name": "stderr",
     "output_type": "stream",
     "text": [
      "C:\\Users\\Hp\\anaconda3\\Lib\\site-packages\\sklearn\\cluster\\_kmeans.py:870: FutureWarning: The default value of `n_init` will change from 10 to 'auto' in 1.4. Set the value of `n_init` explicitly to suppress the warning\n",
      "  warnings.warn(\n",
      "C:\\Users\\Hp\\anaconda3\\Lib\\site-packages\\sklearn\\cluster\\_kmeans.py:1382: UserWarning: KMeans is known to have a memory leak on Windows with MKL, when there are less chunks than available threads. You can avoid it by setting the environment variable OMP_NUM_THREADS=1.\n",
      "  warnings.warn(\n",
      "C:\\Users\\Hp\\anaconda3\\Lib\\site-packages\\sklearn\\cluster\\_kmeans.py:870: FutureWarning: The default value of `n_init` will change from 10 to 'auto' in 1.4. Set the value of `n_init` explicitly to suppress the warning\n",
      "  warnings.warn(\n",
      "C:\\Users\\Hp\\anaconda3\\Lib\\site-packages\\sklearn\\cluster\\_kmeans.py:1382: UserWarning: KMeans is known to have a memory leak on Windows with MKL, when there are less chunks than available threads. You can avoid it by setting the environment variable OMP_NUM_THREADS=1.\n",
      "  warnings.warn(\n",
      "C:\\Users\\Hp\\anaconda3\\Lib\\site-packages\\sklearn\\cluster\\_kmeans.py:870: FutureWarning: The default value of `n_init` will change from 10 to 'auto' in 1.4. Set the value of `n_init` explicitly to suppress the warning\n",
      "  warnings.warn(\n",
      "C:\\Users\\Hp\\anaconda3\\Lib\\site-packages\\sklearn\\cluster\\_kmeans.py:1382: UserWarning: KMeans is known to have a memory leak on Windows with MKL, when there are less chunks than available threads. You can avoid it by setting the environment variable OMP_NUM_THREADS=1.\n",
      "  warnings.warn(\n",
      "C:\\Users\\Hp\\anaconda3\\Lib\\site-packages\\sklearn\\cluster\\_kmeans.py:870: FutureWarning: The default value of `n_init` will change from 10 to 'auto' in 1.4. Set the value of `n_init` explicitly to suppress the warning\n",
      "  warnings.warn(\n",
      "C:\\Users\\Hp\\anaconda3\\Lib\\site-packages\\sklearn\\cluster\\_kmeans.py:1382: UserWarning: KMeans is known to have a memory leak on Windows with MKL, when there are less chunks than available threads. You can avoid it by setting the environment variable OMP_NUM_THREADS=1.\n",
      "  warnings.warn(\n",
      "C:\\Users\\Hp\\anaconda3\\Lib\\site-packages\\sklearn\\cluster\\_kmeans.py:870: FutureWarning: The default value of `n_init` will change from 10 to 'auto' in 1.4. Set the value of `n_init` explicitly to suppress the warning\n",
      "  warnings.warn(\n",
      "C:\\Users\\Hp\\anaconda3\\Lib\\site-packages\\sklearn\\cluster\\_kmeans.py:1382: UserWarning: KMeans is known to have a memory leak on Windows with MKL, when there are less chunks than available threads. You can avoid it by setting the environment variable OMP_NUM_THREADS=1.\n",
      "  warnings.warn(\n",
      "C:\\Users\\Hp\\anaconda3\\Lib\\site-packages\\sklearn\\cluster\\_kmeans.py:870: FutureWarning: The default value of `n_init` will change from 10 to 'auto' in 1.4. Set the value of `n_init` explicitly to suppress the warning\n",
      "  warnings.warn(\n",
      "C:\\Users\\Hp\\anaconda3\\Lib\\site-packages\\sklearn\\cluster\\_kmeans.py:1382: UserWarning: KMeans is known to have a memory leak on Windows with MKL, when there are less chunks than available threads. You can avoid it by setting the environment variable OMP_NUM_THREADS=1.\n",
      "  warnings.warn(\n",
      "C:\\Users\\Hp\\anaconda3\\Lib\\site-packages\\sklearn\\cluster\\_kmeans.py:870: FutureWarning: The default value of `n_init` will change from 10 to 'auto' in 1.4. Set the value of `n_init` explicitly to suppress the warning\n",
      "  warnings.warn(\n",
      "C:\\Users\\Hp\\anaconda3\\Lib\\site-packages\\sklearn\\cluster\\_kmeans.py:1382: UserWarning: KMeans is known to have a memory leak on Windows with MKL, when there are less chunks than available threads. You can avoid it by setting the environment variable OMP_NUM_THREADS=1.\n",
      "  warnings.warn(\n",
      "C:\\Users\\Hp\\anaconda3\\Lib\\site-packages\\sklearn\\cluster\\_kmeans.py:870: FutureWarning: The default value of `n_init` will change from 10 to 'auto' in 1.4. Set the value of `n_init` explicitly to suppress the warning\n",
      "  warnings.warn(\n",
      "C:\\Users\\Hp\\anaconda3\\Lib\\site-packages\\sklearn\\cluster\\_kmeans.py:1382: UserWarning: KMeans is known to have a memory leak on Windows with MKL, when there are less chunks than available threads. You can avoid it by setting the environment variable OMP_NUM_THREADS=1.\n",
      "  warnings.warn(\n",
      "C:\\Users\\Hp\\anaconda3\\Lib\\site-packages\\sklearn\\cluster\\_kmeans.py:870: FutureWarning: The default value of `n_init` will change from 10 to 'auto' in 1.4. Set the value of `n_init` explicitly to suppress the warning\n",
      "  warnings.warn(\n",
      "C:\\Users\\Hp\\anaconda3\\Lib\\site-packages\\sklearn\\cluster\\_kmeans.py:1382: UserWarning: KMeans is known to have a memory leak on Windows with MKL, when there are less chunks than available threads. You can avoid it by setting the environment variable OMP_NUM_THREADS=1.\n",
      "  warnings.warn(\n"
     ]
    }
   ],
   "source": [
    "#so here there we only two features so we  guessed the k(clusters)=2 but when there are more features then it gets very difficult to guess the clusters(k)\n",
    "#for a dataset so we will use the elbow technique.\n",
    "\n",
    "#so first we will make an empty array to store the Sum of squared errors(SSE)\n",
    "SSE = []\n",
    "k_range = range(1,10)    #value of k(clusters)\n",
    "#so to know the value of k(clusters) we have to do trail and error\n",
    "for k in k_range:\n",
    "    km=KMeans(n_clusters=k)\n",
    "    km.fit(df[[\"Age\",\"Income\"]])\n",
    "    SSE.append(km.inertia_)          #km.inertia_ will give us the Sum of squared errors(SSE)    "
   ]
  },
  {
   "cell_type": "code",
   "execution_count": 317,
   "id": "a9f85636-6256-4d92-ab5e-6addca31f959",
   "metadata": {},
   "outputs": [
    {
     "data": {
      "text/plain": [
       "[4.235664960216771,\n",
       " 2.07698543776437,\n",
       " 0.6846184420622545,\n",
       " 0.45975107894157025,\n",
       " 0.33332312344506326,\n",
       " 0.22419838647706397,\n",
       " 0.15554080712546603,\n",
       " 0.11829893237318703,\n",
       " 0.090360164724332]"
      ]
     },
     "execution_count": 317,
     "metadata": {},
     "output_type": "execute_result"
    }
   ],
   "source": [
    "SSE      #Sum of squared errors"
   ]
  },
  {
   "cell_type": "code",
   "execution_count": 318,
   "id": "7e1e06a7-afbc-4bac-b89f-5d6cb27bdf7a",
   "metadata": {},
   "outputs": [
    {
     "data": {
      "text/plain": [
       "[<matplotlib.lines.Line2D at 0x27375bbd050>]"
      ]
     },
     "execution_count": 318,
     "metadata": {},
     "output_type": "execute_result"
    },
    {
     "data": {
      "image/png": "[encoded data removed]",
      "text/plain": [
       "<Figure size 640x480 with 1 Axes>"
      ]
     },
     "metadata": {},
     "output_type": "display_data"
    }
   ],
   "source": [
    "#now we will plot the Sum of squared errors(SSE)\n",
    "plt.xlabel(\"k\")\n",
    "plt.ylabel(\"Sum of squared errors\")\n",
    "plt.plot(k_range,SSE)"
   ]
  },
  {
   "cell_type": "code",
   "execution_count": null,
   "id": "ecbbecfa-83b0-461b-b9aa-fba82f90b28d",
   "metadata": {},
   "outputs": [],
   "source": []
  }
 ],
 "metadata": {
  "kernelspec": {
   "display_name": "Python 3 (ipykernel)",
   "language": "python",
   "name": "python3"
  },
  "language_info": {
   "codemirror_mode": {
    "name": "ipython",
    "version": 3
   },
   "file_extension": ".py",
   "mimetype": "text/x-python",
   "name": "python",
   "nbconvert_exporter": "python",
   "pygments_lexer": "ipython3",
   "version": "3.11.7"
  }
 },
 "nbformat": 4,
 "nbformat_minor": 5
}
