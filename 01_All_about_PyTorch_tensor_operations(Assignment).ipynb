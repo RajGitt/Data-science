{
  "cells": [
    {
      "cell_type": "markdown",
      "metadata": {
        "id": "JbPVvFq7lKaK"
      },
      "source": [
        "# Title Here\n",
        "\n",
        "An short introduction about PyTorch and about the chosen functions.\n",
        "\n",
        "- function 1\n",
        "- function 2\n",
        "- function 3\n",
        "- function 4\n",
        "- function 5\n",
        "\n",
        "Before we begin, let's install and import PyTorch"
      ]
    },
    {
      "cell_type": "code",
      "execution_count": null,
      "metadata": {
        "id": "KPJ6X6xjlKaP"
      },
      "outputs": [],
      "source": [
        "# Uncomment and run the appropriate command for your operating system, if required\n",
        "\n",
        "# Linux / Binder\n",
        "# !pip install numpy torch==1.7.0+cpu torchvision==0.8.1+cpu torchaudio==0.7.0 -f https://download.pytorch.org/whl/torch_stable.html\n",
        "\n",
        "# Windows\n",
        "# !pip install numpy torch==1.7.0+cpu torchvision==0.8.1+cpu torchaudio==0.7.0 -f https://download.pytorch.org/whl/torch_stable.html\n",
        "\n",
        "# MacOS\n",
        "# !pip install numpy torch torchvision torchaudio"
      ]
    },
    {
      "cell_type": "code",
      "execution_count": null,
      "metadata": {
        "id": "bNtAQP-0lKaY"
      },
      "outputs": [],
      "source": [
        "# Import torch and other required modules\n",
        "import torch"
      ]
    },
    {
      "cell_type": "markdown",
      "metadata": {
        "id": "QT8ycAyolKac"
      },
      "source": [
        "## Function 1 - torch.tensor\n"
      ]
    },
    {
      "cell_type": "code",
      "execution_count": null,
      "metadata": {
        "id": "AlWayBK6lKaf"
      },
      "outputs": [],
      "source": [
        "# Example 1 - working\n",
        "#A tensor is a vector(1-d), matrix(2-d), and n-dimensional array.\n",
        "data = torch.tensor([[1,2],\n",
        "                     [3,4],\n",
        "                     [5,6]])"
      ]
    },
    {
      "cell_type": "markdown",
      "metadata": {
        "id": "xQkcAykflKao"
      },
      "source": [
        "Explanation about example"
      ]
    },
    {
      "cell_type": "code",
      "execution_count": null,
      "metadata": {
        "colab": {
          "base_uri": "https://localhost:8080/"
        },
        "id": "twmrWMPblKaw",
        "outputId": "7c2d3d40-5514-492e-f950-6e3b7681bdd2"
      },
      "outputs": [
        {
          "name": "stdout",
          "output_type": "stream",
          "text": [
            "tensor([[23., 22.],\n",
            "        [33., 45.]])\n"
          ]
        }
      ],
      "source": [
        "# Example 2 - working\n",
        "#Here we can just add the datatype of the tensor in the end while creating a tensor\n",
        "float_tensor = torch.tensor([[23,22],\n",
        "                             [33,45]],dtype=torch.float)\n",
        "print(float_tensor)\n",
        "\n",
        "#OR\n",
        "#here we can convert the dataset into floating point number by adding just a decimal point to any number and the whole tensor dataset would get converted into\n",
        "#floating point number\n",
        "#float_tensor = torch.tensor([[23.,22],\n",
        "#                             [33,45]])\n",
        "#print(float_tensor)"
      ]
    },
    {
      "cell_type": "markdown",
      "metadata": {
        "id": "IPlGnSgilKa2"
      },
      "source": [
        "Explanation about example"
      ]
    },
    {
      "cell_type": "code",
      "execution_count": null,
      "metadata": {
        "colab": {
          "base_uri": "https://localhost:8080/",
          "height": 211
        },
        "id": "YvaAwLTYlKa8",
        "outputId": "48210a89-3bdc-465e-e19e-fe14fd7e1fe5"
      },
      "outputs": [
        {
          "ename": "ValueError",
          "evalue": "expected sequence of length 1 at dim 1 (got 2)",
          "output_type": "error",
          "traceback": [
            "\u001b[0;31m---------------------------------------------------------------------------\u001b[0m",
            "\u001b[0;31mValueError\u001b[0m                                Traceback (most recent call last)",
            "\u001b[0;32m<ipython-input-2-42136c52b5fa>\u001b[0m in \u001b[0;36m<cell line: 4>\u001b[0;34m()\u001b[0m\n\u001b[1;32m      2\u001b[0m \u001b[0;31m#Here in torch.tensors, if we making the tensors then it should be of same shape(dimensions),means the shape of array should be of same size, otherwise it\u001b[0m\u001b[0;34m\u001b[0m\u001b[0;34m\u001b[0m\u001b[0m\n\u001b[1;32m      3\u001b[0m \u001b[0;31m#will generate error\u001b[0m\u001b[0;34m\u001b[0m\u001b[0;34m\u001b[0m\u001b[0m\n\u001b[0;32m----> 4\u001b[0;31m torch.tensor([[1],\n\u001b[0m\u001b[1;32m      5\u001b[0m               [3, 4.]])\n",
            "\u001b[0;31mValueError\u001b[0m: expected sequence of length 1 at dim 1 (got 2)"
          ]
        }
      ],
      "source": [
        "# Example 3 - breaking (to illustrate when it breaks)\n",
        "#Here in torch.tensors, if we making the tensors then it should be of same shape(dimensions),means the shape of array should be of same size, otherwise it\n",
        "#will generate error\n",
        "torch.tensor([[1],\n",
        "              [3, 4.]])"
      ]
    },
    {
      "cell_type": "markdown",
      "metadata": {
        "id": "Lc9Uba1VlKbI"
      },
      "source": [
        "## Function 2 - torch.reshape\n"
      ]
    },
    {
      "cell_type": "code",
      "execution_count": null,
      "metadata": {
        "colab": {
          "base_uri": "https://localhost:8080/"
        },
        "id": "j6NkMPP_lKbJ",
        "outputId": "c59026ed-8aed-4277-ea87-b4e05b5a1fbd"
      },
      "outputs": [
        {
          "data": {
            "text/plain": [
              "tensor([[1, 2],\n",
              "        [3, 4],\n",
              "        [5, 6]])"
            ]
          },
          "execution_count": 14,
          "metadata": {},
          "output_type": "execute_result"
        }
      ],
      "source": [
        "# Example 1 - working\n",
        "#torch.reshape changes the shape of a tensor without changing the data\n",
        "x = torch.tensor([[1,2,3],\n",
        "                 [4,5,6]])      #shape of tensor is 2x3\n",
        "#reshaping tensor into 3x2, would not change the data itself\n",
        "x.reshape(3,2)"
      ]
    },
    {
      "cell_type": "code",
      "execution_count": null,
      "metadata": {
        "colab": {
          "base_uri": "https://localhost:8080/"
        },
        "id": "apTpEhz0lKbM",
        "outputId": "bab98a2e-7c8f-4dfb-bd49-6b5eecee2ee8"
      },
      "outputs": [
        {
          "data": {
            "text/plain": [
              "tensor([[1, 2],\n",
              "        [3, 4],\n",
              "        [5, 6]])"
            ]
          },
          "execution_count": 17,
          "metadata": {},
          "output_type": "execute_result"
        }
      ],
      "source": [
        "# Example 2 - working\n",
        "y = torch.tensor([1,2,3,4,5,6])      #this is a 1-d tensor(a vector)\n",
        "\n",
        "#reshaping y into 3x2\n",
        "y.reshape(3,2)"
      ]
    },
    {
      "cell_type": "code",
      "execution_count": null,
      "metadata": {
        "colab": {
          "base_uri": "https://localhost:8080/",
          "height": 176
        },
        "id": "YBPhkdAilKbO",
        "outputId": "1ccc275a-914f-4407-a407-f736d150dfbf"
      },
      "outputs": [
        {
          "ename": "RuntimeError",
          "evalue": "shape '[3, 2]' is invalid for input of size 4",
          "output_type": "error",
          "traceback": [
            "\u001b[0;31m---------------------------------------------------------------------------\u001b[0m",
            "\u001b[0;31mRuntimeError\u001b[0m                              Traceback (most recent call last)",
            "\u001b[0;32m<ipython-input-18-72852ebd9a55>\u001b[0m in \u001b[0;36m<cell line: 5>\u001b[0;34m()\u001b[0m\n\u001b[1;32m      3\u001b[0m \u001b[0;34m\u001b[0m\u001b[0m\n\u001b[1;32m      4\u001b[0m \u001b[0;31m#reshaping the tensor into 3x2, so it should have 6 elements but here we only have 4 elements so it will generate an error\u001b[0m\u001b[0;34m\u001b[0m\u001b[0;34m\u001b[0m\u001b[0m\n\u001b[0;32m----> 5\u001b[0;31m \u001b[0mz\u001b[0m\u001b[0;34m.\u001b[0m\u001b[0mreshape\u001b[0m\u001b[0;34m(\u001b[0m\u001b[0;36m3\u001b[0m\u001b[0;34m,\u001b[0m\u001b[0;36m2\u001b[0m\u001b[0;34m)\u001b[0m\u001b[0;34m\u001b[0m\u001b[0;34m\u001b[0m\u001b[0m\n\u001b[0m",
            "\u001b[0;31mRuntimeError\u001b[0m: shape '[3, 2]' is invalid for input of size 4"
          ]
        }
      ],
      "source": [
        "# Example 3 - breaking (to illustrate when it breaks)\n",
        "z = torch.tensor([1,2,3,4])  #this is a 1-d tensor which has 4 elements\n",
        "\n",
        "#reshaping the tensor into 3x2, so it should have 6 elements but here we only have 4 elements so it will generate an error\n",
        "z.reshape(3,2)"
      ]
    },
    {
      "cell_type": "markdown",
      "metadata": {
        "id": "FW6VB6YSlKbR"
      },
      "source": [
        "## Function 3 - torch.cat\n",
        "\n"
      ]
    },
    {
      "cell_type": "code",
      "execution_count": null,
      "metadata": {
        "colab": {
          "base_uri": "https://localhost:8080/"
        },
        "id": "nfvqAb--lKbS",
        "outputId": "1668a9a3-19fc-4137-b20c-df7ff560e24a"
      },
      "outputs": [
        {
          "data": {
            "text/plain": [
              "tensor([[1, 2],\n",
              "        [3, 4],\n",
              "        [5, 6],\n",
              "        [7, 8]])"
            ]
          },
          "execution_count": 20,
          "metadata": {},
          "output_type": "execute_result"
        }
      ],
      "source": [
        "# Example 1 - working\n",
        "#torch.cat is used to concatenate the two tensor into one and here we can give dimensions too.\n",
        "\n",
        "a = torch.tensor([[1,2],[3,4]])\n",
        "b = torch.tensor([[5,6],[7,8]])\n",
        "\n",
        "#by using cat we will concatenate a & b with dim=0(dimension)\n",
        "torch.cat((a,b), dim=0)\n",
        "#dimension(dim=0), will convert th tensor into 4x2 shape"
      ]
    },
    {
      "cell_type": "code",
      "execution_count": null,
      "metadata": {
        "colab": {
          "base_uri": "https://localhost:8080/"
        },
        "id": "In2SSIfwlKbU",
        "outputId": "f802cf42-ccb2-4212-b307-327132761883"
      },
      "outputs": [
        {
          "data": {
            "text/plain": [
              "tensor([[1, 2, 3, 4],\n",
              "        [2, 3, 4, 5]])"
            ]
          },
          "execution_count": 22,
          "metadata": {},
          "output_type": "execute_result"
        }
      ],
      "source": [
        "# Example 2 - working\n",
        "#now we will concatenate the c & d tenors with dim=1\n",
        "c = torch.tensor([[1,2],[2,3]])\n",
        "d = torch.tensor([[3,4],[4,5]])\n",
        "\n",
        "#by using dim=1(dimension), tensr would be converted into 2x4\n",
        "torch.cat((c,d), dim=1)"
      ]
    },
    {
      "cell_type": "code",
      "execution_count": null,
      "metadata": {
        "colab": {
          "base_uri": "https://localhost:8080/",
          "height": 176
        },
        "id": "d1dUfPmTlKbW",
        "outputId": "18e1e935-e081-4080-9c42-aef09ffb77b8"
      },
      "outputs": [
        {
          "ename": "RuntimeError",
          "evalue": "Tensors must have same number of dimensions: got 2 and 1",
          "output_type": "error",
          "traceback": [
            "\u001b[0;31m---------------------------------------------------------------------------\u001b[0m",
            "\u001b[0;31mRuntimeError\u001b[0m                              Traceback (most recent call last)",
            "\u001b[0;32m<ipython-input-24-6b6b98d1b784>\u001b[0m in \u001b[0;36m<cell line: 7>\u001b[0;34m()\u001b[0m\n\u001b[1;32m      5\u001b[0m \u001b[0;34m\u001b[0m\u001b[0m\n\u001b[1;32m      6\u001b[0m \u001b[0;31m#here the shape of both the e & f don't align with each other, so we'll have an error concatenating the tensors, as they are of different shapes\u001b[0m\u001b[0;34m\u001b[0m\u001b[0;34m\u001b[0m\u001b[0m\n\u001b[0;32m----> 7\u001b[0;31m \u001b[0mtorch\u001b[0m\u001b[0;34m.\u001b[0m\u001b[0mcat\u001b[0m\u001b[0;34m(\u001b[0m\u001b[0;34m(\u001b[0m\u001b[0me\u001b[0m\u001b[0;34m,\u001b[0m\u001b[0mf\u001b[0m\u001b[0;34m)\u001b[0m\u001b[0;34m,\u001b[0m \u001b[0mdim\u001b[0m\u001b[0;34m=\u001b[0m\u001b[0;36m0\u001b[0m\u001b[0;34m)\u001b[0m\u001b[0;34m\u001b[0m\u001b[0;34m\u001b[0m\u001b[0m\n\u001b[0m",
            "\u001b[0;31mRuntimeError\u001b[0m: Tensors must have same number of dimensions: got 2 and 1"
          ]
        }
      ],
      "source": [
        "# Example 3 - breaking (to illustrate when it breaks)\n",
        "#now we'll concatenate the e & f tensor with dim-=0\n",
        "e = torch.tensor([[1,2],[3,4]])\n",
        "f = torch.tensor([5,6])\n",
        "\n",
        "#here the shape of both the e & f don't align with each other, so we'll have an error concatenating the tensors, as they are of different shapes\n",
        "torch.cat((e,f), dim=0)"
      ]
    },
    {
      "cell_type": "markdown",
      "metadata": {
        "id": "uq1vQBMYlKbc"
      },
      "source": [
        "## Function 4 - torch.stack\n",
        "\n"
      ]
    },
    {
      "cell_type": "code",
      "execution_count": null,
      "metadata": {
        "colab": {
          "base_uri": "https://localhost:8080/"
        },
        "id": "9Hn1ybg7lKbd",
        "outputId": "bf52f90c-74af-4d8c-887e-836e3862a793"
      },
      "outputs": [
        {
          "data": {
            "text/plain": [
              "tensor([[[2, 3],\n",
              "         [4, 5]],\n",
              "\n",
              "        [[4, 5],\n",
              "         [2, 3]]])"
            ]
          },
          "execution_count": 26,
          "metadata": {},
          "output_type": "execute_result"
        }
      ],
      "source": [
        "# Example 1 - working\n",
        "#The torch.stck is used to add the two tensors same as cat(concatenate), but in a different way,\n",
        "#the torch.cat, concatenate the tensors in the existing dimensions, whereas the stack add a new dimension, combining the tensors.\n",
        "\n",
        "#creating  tensors\n",
        "g = torch.tensor([[2,3],[4,5]])\n",
        "h = torch.tensor([[4,5],[2,3]])\n",
        "torch.stack((g,h), dim=0)"
      ]
    },
    {
      "cell_type": "code",
      "execution_count": null,
      "metadata": {
        "colab": {
          "base_uri": "https://localhost:8080/"
        },
        "id": "pkliFcl0lKbh",
        "outputId": "26991d6f-69a1-43ab-f0f3-e045866c8d7e"
      },
      "outputs": [
        {
          "data": {
            "text/plain": [
              "tensor([[1, 5],\n",
              "        [2, 7],\n",
              "        [4, 8],\n",
              "        [3, 9]])"
            ]
          },
          "execution_count": 34,
          "metadata": {},
          "output_type": "execute_result"
        }
      ],
      "source": [
        "# Example 2 - working\n",
        "i = torch.tensor([1,2,4,3])\n",
        "j = torch.tensor([5,7,8,9])\n",
        "#stacking i & j along a new dimension, creating a 4x2 tensor\n",
        "torch.stack((i,j), dim=1)"
      ]
    },
    {
      "cell_type": "code",
      "execution_count": null,
      "metadata": {
        "colab": {
          "base_uri": "https://localhost:8080/",
          "height": 176
        },
        "id": "byZD3y3KlKcG",
        "outputId": "51c3ca14-8a17-404a-e42a-98175584a748"
      },
      "outputs": [
        {
          "ename": "RuntimeError",
          "evalue": "stack expects each tensor to be equal size, but got [2] at entry 0 and [3] at entry 1",
          "output_type": "error",
          "traceback": [
            "\u001b[0;31m---------------------------------------------------------------------------\u001b[0m",
            "\u001b[0;31mRuntimeError\u001b[0m                              Traceback (most recent call last)",
            "\u001b[0;32m<ipython-input-35-141fe26acc5d>\u001b[0m in \u001b[0;36m<cell line: 6>\u001b[0;34m()\u001b[0m\n\u001b[1;32m      4\u001b[0m \u001b[0ml\u001b[0m \u001b[0;34m=\u001b[0m \u001b[0mtorch\u001b[0m\u001b[0;34m.\u001b[0m\u001b[0mtensor\u001b[0m\u001b[0;34m(\u001b[0m\u001b[0;34m[\u001b[0m\u001b[0;36m4\u001b[0m\u001b[0;34m,\u001b[0m\u001b[0;36m5\u001b[0m\u001b[0;34m,\u001b[0m\u001b[0;36m6\u001b[0m\u001b[0;34m]\u001b[0m\u001b[0;34m)\u001b[0m\u001b[0;34m\u001b[0m\u001b[0;34m\u001b[0m\u001b[0m\n\u001b[1;32m      5\u001b[0m \u001b[0;34m\u001b[0m\u001b[0m\n\u001b[0;32m----> 6\u001b[0;31m \u001b[0mtorch\u001b[0m\u001b[0;34m.\u001b[0m\u001b[0mstack\u001b[0m\u001b[0;34m(\u001b[0m\u001b[0;34m(\u001b[0m\u001b[0mk\u001b[0m\u001b[0;34m,\u001b[0m\u001b[0ml\u001b[0m\u001b[0;34m)\u001b[0m\u001b[0;34m,\u001b[0m \u001b[0mdim\u001b[0m\u001b[0;34m=\u001b[0m\u001b[0;36m0\u001b[0m\u001b[0;34m)\u001b[0m\u001b[0;34m\u001b[0m\u001b[0;34m\u001b[0m\u001b[0m\n\u001b[0m",
            "\u001b[0;31mRuntimeError\u001b[0m: stack expects each tensor to be equal size, but got [2] at entry 0 and [3] at entry 1"
          ]
        }
      ],
      "source": [
        "# Example 3 - breaking (to illustrate when it breaks)\n",
        "#the sizes of the tensors must be same to be stacked with eachother along a new dimension, otherwise it will generate an error\n",
        "k = torch.tensor([2,3])\n",
        "l = torch.tensor([4,5,6])\n",
        "#the shapes of tensor must be same to be stacked\n",
        "torch.stack((k,l), dim=0)"
      ]
    },
    {
      "cell_type": "markdown",
      "metadata": {
        "id": "fLTGW2jklKcI"
      },
      "source": [
        "Explanation about example"
      ]
    },
    {
      "cell_type": "markdown",
      "metadata": {
        "id": "r4Up2HXtlKcM"
      },
      "source": [
        "## Function 5 - torch.mm\n",
        "\n"
      ]
    },
    {
      "cell_type": "code",
      "execution_count": null,
      "metadata": {
        "colab": {
          "base_uri": "https://localhost:8080/"
        },
        "id": "5rFup2-9lKcN",
        "outputId": "feaaa4ac-b139-4048-c6cc-2c7032404b9d"
      },
      "outputs": [
        {
          "data": {
            "text/plain": [
              "tensor([[36, 41],\n",
              "        [64, 73]])"
            ]
          },
          "execution_count": 38,
          "metadata": {},
          "output_type": "execute_result"
        }
      ],
      "source": [
        "# Example 1 - working\n",
        "#torch.mm is used for matrix multiplication in pytorch\n",
        "\n",
        "m = torch.tensor([[2,3],[4,5]])\n",
        "n = torch.tensor([[6,7],[8,9]])\n",
        "\n",
        "#performing matrix multiplication on two 2x2 tensors,\n",
        "torch.mm(m,n)\n",
        "\n",
        "so matrix multiplication will convert these two 2x2 tensors in one 2x2 tensor"
      ]
    },
    {
      "cell_type": "code",
      "execution_count": null,
      "metadata": {
        "colab": {
          "base_uri": "https://localhost:8080/"
        },
        "id": "Rq42-KttlKcP",
        "outputId": "8d2b6e9f-7f1c-45fc-c928-f3fb5c7560e5"
      },
      "outputs": [
        {
          "data": {
            "text/plain": [
              "tensor([[ 58,  64],\n",
              "        [139, 154]])"
            ]
          },
          "execution_count": 40,
          "metadata": {},
          "output_type": "execute_result"
        }
      ],
      "source": [
        "# Example 2 - working\n",
        "o = torch.tensor([[1,2,3],[4,5,6]])  #2x3 tensor\n",
        "p = torch.tensor([[7,8],[9,10],[11,12]])  #3x2 tensor\n",
        "\n",
        "#performing matrix multiplication on two 2x3 & 3x2 tensors\n",
        "torch.mm(o,p) #the result would be 2x2 tensor"
      ]
    },
    {
      "cell_type": "markdown",
      "metadata": {
        "id": "ocscdKa4lKcQ"
      },
      "source": [
        "Explanation about example"
      ]
    },
    {
      "cell_type": "code",
      "execution_count": null,
      "metadata": {
        "colab": {
          "base_uri": "https://localhost:8080/",
          "height": 176
        },
        "id": "RTjYLLg1lKcR",
        "outputId": "3798dcf7-4751-4cc6-d0ee-25cb1d3bd086"
      },
      "outputs": [
        {
          "ename": "RuntimeError",
          "evalue": "mat1 and mat2 shapes cannot be multiplied (2x2 and 1x2)",
          "output_type": "error",
          "traceback": [
            "\u001b[0;31m---------------------------------------------------------------------------\u001b[0m",
            "\u001b[0;31mRuntimeError\u001b[0m                              Traceback (most recent call last)",
            "\u001b[0;32m<ipython-input-41-7fc3d56aab39>\u001b[0m in \u001b[0;36m<cell line: 8>\u001b[0;34m()\u001b[0m\n\u001b[1;32m      6\u001b[0m \u001b[0;34m\u001b[0m\u001b[0m\n\u001b[1;32m      7\u001b[0m \u001b[0;31m#performing matrix multiplication\u001b[0m\u001b[0;34m\u001b[0m\u001b[0;34m\u001b[0m\u001b[0m\n\u001b[0;32m----> 8\u001b[0;31m \u001b[0mtorch\u001b[0m\u001b[0;34m.\u001b[0m\u001b[0mmm\u001b[0m\u001b[0;34m(\u001b[0m\u001b[0mq\u001b[0m\u001b[0;34m,\u001b[0m\u001b[0mr\u001b[0m\u001b[0;34m)\u001b[0m    \u001b[0;31m#will show error\u001b[0m\u001b[0;34m\u001b[0m\u001b[0;34m\u001b[0m\u001b[0m\n\u001b[0m",
            "\u001b[0;31mRuntimeError\u001b[0m: mat1 and mat2 shapes cannot be multiplied (2x2 and 1x2)"
          ]
        }
      ],
      "source": [
        "# Example 3 - breaking (to illustrate when it breaks)\n",
        "#For matrix multiplication the matrix size/shape should be same, otherwise it will generate an error\n",
        "\n",
        "q = torch.tensor([[1,2],[3,4]])\n",
        "r = torch.tensor([[5,6]])\n",
        "\n",
        "#performing matrix multiplication\n",
        "torch.mm(q,r)    #will show error"
      ]
    },
    {
      "cell_type": "markdown",
      "metadata": {
        "id": "BYUT09-QlKcU"
      },
      "source": [
        "\n",
        "## Conclusion\n",
        "\n",
        "Here we have worked on torch.tensors(is used to create a tensor), torch.cat(is used to concatenate two or more tensors), torch.reshape(is used to reshape teh tensors shape), torch.stack(is used to stack teh two or more tensors and creeate a new dimension), torch.mm(is used to perform the matrix multiplication on tensors). And here presented 2 working examples and one non-woring(error generating example)."
      ]
    },
    {
      "cell_type": "markdown",
      "metadata": {
        "id": "ytc-a3sblKcW"
      },
      "source": [
        "## Reference Links\n",
        "Provide links to your references and other interesting articles about tensors\n",
        "* Official documentation for tensor operations: https://pytorch.org/docs/stable/torch.html\n",
        "* ..."
      ]
    },
    {
      "cell_type": "code",
      "execution_count": null,
      "metadata": {
        "id": "eApH_EdnlKcY"
      },
      "outputs": [],
      "source": []
    }
  ],
  "metadata": {
    "colab": {
      "provenance": []
    },
    "kernelspec": {
      "display_name": "Python 3",
      "language": "python",
      "name": "python3"
    },
    "language_info": {
      "codemirror_mode": {
        "name": "ipython",
        "version": 3
      },
      "file_extension": ".py",
      "mimetype": "text/x-python",
      "name": "python",
      "nbconvert_exporter": "python",
      "pygments_lexer": "ipython3",
      "version": "3.8.5"
    }
  },
  "nbformat": 4,
  "nbformat_minor": 0
}