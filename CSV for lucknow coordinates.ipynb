{
 "cells": [
  {
   "cell_type": "code",
   "execution_count": 1,
   "id": "7d1a5107-f789-4180-9819-3911fa9bab7d",
   "metadata": {},
   "outputs": [
    {
     "name": "stdout",
     "output_type": "stream",
     "text": [
      "restaurants.csv generated successfully!\n",
      "customers.csv generated successfully!\n",
      "riders.csv generated successfully!\n"
     ]
    }
   ],
   "source": [
    "import pandas as pd\n",
    "import numpy as np\n",
    "\n",
    "# Defininig max, min values for Lucknow co-ordinates(approximate lat-long ranges)\n",
    "LAT_MIN, LAT_MAX = 26.75, 27.05  # Latitude range\n",
    "LON_MIN, LON_MAX = 80.80, 81.05  # Longitude range\n",
    "\n",
    "# Function to generate random coordinates within the given range\n",
    "def generate_coordinates(size): #size indicates, the number of random values we want.\n",
    "    latitudes = np.random.uniform(LAT_MIN, LAT_MAX, size) #np.random.uniform will ensure that each values from lower to upper bound has equal probability to be choosen.\n",
    "    longitudes = np.random.uniform(LON_MIN, LON_MAX, size)\n",
    "    return latitudes, longitudes\n",
    "\n",
    "# Generate data\n",
    "#Here we are defining a function which creates a csv file \n",
    "def create_csv(file_name, entity_name, size):    #here we have specified arguments such as file_name(a csv file name), entity_name(which is a rider,customer\n",
    "    #restaurant id), size(so size is an integer which indicates the size of the rows of data we want to generate).\n",
    "    latitudes, longitudes = generate_coordinates(size)\n",
    "    data = {\n",
    "        f\"{entity_name}_id\": range(1, size + 1),\n",
    "        \"latitude\": latitudes,\n",
    "        \"longitude\": longitudes\n",
    "    }\n",
    "    df = pd.DataFrame(data)\n",
    "    df.to_csv(file_name, index=False)\n",
    "    print(f\"{file_name} generated successfully!\")\n",
    "\n",
    "# Generate CSVs with 1000 data points each\n",
    "create_csv(\"restaurants.csv\", \"restaurant\", 1000)\n",
    "create_csv(\"customers.csv\", \"customer\", 1000)\n",
    "create_csv(\"riders.csv\", \"rider\", 1000)"
   ]
  },
  {
   "cell_type": "code",
   "execution_count": 1,
   "id": "a8cdf051-ec09-4efe-bd63-c4d92324aca4",
   "metadata": {},
   "outputs": [
    {
     "name": "stdout",
     "output_type": "stream",
     "text": [
      "riders_info.csv generated successfully!\n"
     ]
    }
   ],
   "source": [
    "# Generate riders_info.csv\n",
    "import pandas as pd\n",
    "import numpy as np\n",
    "\n",
    "def create_riders_info(file_name, size):\n",
    "    data = {\n",
    "        \"rider_id\": range(1, size + 1),\n",
    "        \"capacity\": np.random.randint(1, 21, size)     #Rider capacity is in between 1 to 20kg\n",
    "    }\n",
    "    df = pd.DataFrame(data)\n",
    "    df.to_csv(file_name, index=False)\n",
    "    print(f\"{file_name} generated successfully!\")\n",
    "\n",
    "create_riders_info(\"riders_info.csv\", 1000)"
   ]
  },
  {
   "cell_type": "code",
   "execution_count": null,
   "id": "71efb64f-abce-42b3-9cb5-6d15709df97e",
   "metadata": {},
   "outputs": [],
   "source": []
  }
 ],
 "metadata": {
  "kernelspec": {
   "display_name": "Python 3 (ipykernel)",
   "language": "python",
   "name": "python3"
  },
  "language_info": {
   "codemirror_mode": {
    "name": "ipython",
    "version": 3
   },
   "file_extension": ".py",
   "mimetype": "text/x-python",
   "name": "python",
   "nbconvert_exporter": "python",
   "pygments_lexer": "ipython3",
   "version": "3.11.7"
  }
 },
 "nbformat": 4,
 "nbformat_minor": 5
}
