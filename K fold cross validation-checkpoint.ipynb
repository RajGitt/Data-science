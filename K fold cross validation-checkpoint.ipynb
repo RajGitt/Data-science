{
 "cells": [
  {
   "cell_type": "markdown",
   "id": "b9ac5c2e-418f-475b-81d4-9fb0c5ebcf5a",
   "metadata": {},
   "source": [
    "<b>K fold cross validation</b> is used to evaluate the performance of a particular machine learning algorthm which tells us which is the best machine learning algorithm to use on the dataset to train the model like the train_test_split model."
   ]
  },
  {
   "cell_type": "markdown",
   "id": "e22cb198-9269-41c1-9c8e-12e01770685d",
   "metadata": {},
   "source": [
    "Suppose we are working on a iris dataset of flowers(where we will have different breeds of flowers of iris flower based on their sepal width, sepal lenght, petal width, petal length). So, for classification of flower dataset we could use any machine learning algorithm such as LinearRegression, RandomForest, DecisionTreeClassifier, Support Vector Machine, etc but which to choose. So, that answer is provided with the help of K fold cross validation, so to know which model is best for classification, etc we would use K fold cross validation, and then K fold cross validation would evaluate the performance of a particular machine learning algorithm on our dataset, by comparing their performance."
   ]
  },
  {
   "cell_type": "markdown",
   "id": "b47d99d2-973c-4bcc-b015-0285589a2e70",
   "metadata": {},
   "source": [
    "K fold cross validation algorithm would splits the dataset in K-folds and would take the one random sample of dataset as test_data and would take teh remaining K-1 samples as training_data and would go on till each sample has become a test_data one time and then on the basis of their individual scoreof all the data samples, k fold cross validation would give us the final score.\n",
    "\n",
    "<br>So, this technique(K fold cross validation) helps us in evaluating the model's performance more robustly by ensuring that every data samples gets a chance to be in the test_dataset exactly one time."
   ]
  },
  {
   "cell_type": "code",
   "execution_count": 17,
   "id": "779f12ad-075c-4e89-bd57-2a6efcf08282",
   "metadata": {},
   "outputs": [],
   "source": [
    "import numpy as np \n",
    "import matplotlib.pyplot as plt"
   ]
  },
  {
   "cell_type": "code",
   "execution_count": 18,
   "id": "52811342-3765-4873-a81a-9a42c2b28592",
   "metadata": {},
   "outputs": [],
   "source": [
    "#here we are loading the digits dataset\n",
    "from sklearn.datasets import load_digits\n",
    "digits = load_digits()"
   ]
  },
  {
   "cell_type": "code",
   "execution_count": 19,
   "id": "3a92667b-231c-4484-b48e-2cb0d7d19f52",
   "metadata": {},
   "outputs": [
    {
     "data": {
      "text/plain": [
       "['DESCR', 'data', 'feature_names', 'frame', 'images', 'target', 'target_names']"
      ]
     },
     "execution_count": 19,
     "metadata": {},
     "output_type": "execute_result"
    }
   ],
   "source": [
    "#directory of digits data set\n",
    "dir(digits)"
   ]
  },
  {
   "cell_type": "code",
   "execution_count": 20,
   "id": "6eb65c96-7053-4e3e-a4ee-d2d80f6d421c",
   "metadata": {},
   "outputs": [
    {
     "data": {
      "text/plain": [
       "['pixel_0_0',\n",
       " 'pixel_0_1',\n",
       " 'pixel_0_2',\n",
       " 'pixel_0_3',\n",
       " 'pixel_0_4',\n",
       " 'pixel_0_5',\n",
       " 'pixel_0_6',\n",
       " 'pixel_0_7',\n",
       " 'pixel_1_0',\n",
       " 'pixel_1_1',\n",
       " 'pixel_1_2',\n",
       " 'pixel_1_3',\n",
       " 'pixel_1_4',\n",
       " 'pixel_1_5',\n",
       " 'pixel_1_6',\n",
       " 'pixel_1_7',\n",
       " 'pixel_2_0',\n",
       " 'pixel_2_1',\n",
       " 'pixel_2_2',\n",
       " 'pixel_2_3',\n",
       " 'pixel_2_4',\n",
       " 'pixel_2_5',\n",
       " 'pixel_2_6',\n",
       " 'pixel_2_7',\n",
       " 'pixel_3_0',\n",
       " 'pixel_3_1',\n",
       " 'pixel_3_2',\n",
       " 'pixel_3_3',\n",
       " 'pixel_3_4',\n",
       " 'pixel_3_5',\n",
       " 'pixel_3_6',\n",
       " 'pixel_3_7',\n",
       " 'pixel_4_0',\n",
       " 'pixel_4_1',\n",
       " 'pixel_4_2',\n",
       " 'pixel_4_3',\n",
       " 'pixel_4_4',\n",
       " 'pixel_4_5',\n",
       " 'pixel_4_6',\n",
       " 'pixel_4_7',\n",
       " 'pixel_5_0',\n",
       " 'pixel_5_1',\n",
       " 'pixel_5_2',\n",
       " 'pixel_5_3',\n",
       " 'pixel_5_4',\n",
       " 'pixel_5_5',\n",
       " 'pixel_5_6',\n",
       " 'pixel_5_7',\n",
       " 'pixel_6_0',\n",
       " 'pixel_6_1',\n",
       " 'pixel_6_2',\n",
       " 'pixel_6_3',\n",
       " 'pixel_6_4',\n",
       " 'pixel_6_5',\n",
       " 'pixel_6_6',\n",
       " 'pixel_6_7',\n",
       " 'pixel_7_0',\n",
       " 'pixel_7_1',\n",
       " 'pixel_7_2',\n",
       " 'pixel_7_3',\n",
       " 'pixel_7_4',\n",
       " 'pixel_7_5',\n",
       " 'pixel_7_6',\n",
       " 'pixel_7_7']"
      ]
     },
     "execution_count": 20,
     "metadata": {},
     "output_type": "execute_result"
    }
   ],
   "source": [
    "digits.feature_names"
   ]
  },
  {
   "cell_type": "code",
   "execution_count": 21,
   "id": "a350a230-e184-4490-827c-a7ff9a8357ce",
   "metadata": {},
   "outputs": [
    {
     "data": {
      "text/plain": [
       "array([0, 1, 2, 3, 4, 5, 6, 7, 8, 9])"
      ]
     },
     "execution_count": 21,
     "metadata": {},
     "output_type": "execute_result"
    }
   ],
   "source": [
    "digits.target_names"
   ]
  },
  {
   "cell_type": "code",
   "execution_count": 22,
   "id": "39b5310d-8a74-4f5e-bc15-09d4d69b0d7f",
   "metadata": {},
   "outputs": [
    {
     "data": {
      "text/plain": [
       "array([[ 0.,  0.,  5., ...,  0.,  0.,  0.],\n",
       "       [ 0.,  0.,  0., ..., 10.,  0.,  0.],\n",
       "       [ 0.,  0.,  0., ..., 16.,  9.,  0.],\n",
       "       ...,\n",
       "       [ 0.,  0.,  1., ...,  6.,  0.,  0.],\n",
       "       [ 0.,  0.,  2., ..., 12.,  0.,  0.],\n",
       "       [ 0.,  0., 10., ..., 12.,  1.,  0.]])"
      ]
     },
     "execution_count": 22,
     "metadata": {},
     "output_type": "execute_result"
    }
   ],
   "source": [
    "digits.data"
   ]
  },
  {
   "cell_type": "code",
   "execution_count": 145,
   "id": "8c250353-d370-4c16-897b-5702dac04b7b",
   "metadata": {},
   "outputs": [],
   "source": [
    "#now we are training our dataset by train_test_split model\n",
    "from sklearn.model_selection import train_test_split\n",
    "#digits.data=X and digits.target=y\n",
    "X_train,X_test,y_train,y_test = train_test_split(digits.data,digits.target,test_size=0.3)"
   ]
  },
  {
   "cell_type": "code",
   "execution_count": 147,
   "id": "4fb4fbb5-48b7-4bd9-8bf4-08d24befed34",
   "metadata": {},
   "outputs": [
    {
     "data": {
      "text/html": [
       "<style>#sk-container-id-18 {color: black;background-color: white;}#sk-container-id-18 pre{padding: 0;}#sk-container-id-18 div.sk-toggleable {background-color: white;}#sk-container-id-18 label.sk-toggleable__label {cursor: pointer;display: block;width: 100%;margin-bottom: 0;padding: 0.3em;box-sizing: border-box;text-align: center;}#sk-container-id-18 label.sk-toggleable__label-arrow:before {content: \"▸\";float: left;margin-right: 0.25em;color: #696969;}#sk-container-id-18 label.sk-toggleable__label-arrow:hover:before {color: black;}#sk-container-id-18 div.sk-estimator:hover label.sk-toggleable__label-arrow:before {color: black;}#sk-container-id-18 div.sk-toggleable__content {max-height: 0;max-width: 0;overflow: hidden;text-align: left;background-color: #f0f8ff;}#sk-container-id-18 div.sk-toggleable__content pre {margin: 0.2em;color: black;border-radius: 0.25em;background-color: #f0f8ff;}#sk-container-id-18 input.sk-toggleable__control:checked~div.sk-toggleable__content {max-height: 200px;max-width: 100%;overflow: auto;}#sk-container-id-18 input.sk-toggleable__control:checked~label.sk-toggleable__label-arrow:before {content: \"▾\";}#sk-container-id-18 div.sk-estimator input.sk-toggleable__control:checked~label.sk-toggleable__label {background-color: #d4ebff;}#sk-container-id-18 div.sk-label input.sk-toggleable__control:checked~label.sk-toggleable__label {background-color: #d4ebff;}#sk-container-id-18 input.sk-hidden--visually {border: 0;clip: rect(1px 1px 1px 1px);clip: rect(1px, 1px, 1px, 1px);height: 1px;margin: -1px;overflow: hidden;padding: 0;position: absolute;width: 1px;}#sk-container-id-18 div.sk-estimator {font-family: monospace;background-color: #f0f8ff;border: 1px dotted black;border-radius: 0.25em;box-sizing: border-box;margin-bottom: 0.5em;}#sk-container-id-18 div.sk-estimator:hover {background-color: #d4ebff;}#sk-container-id-18 div.sk-parallel-item::after {content: \"\";width: 100%;border-bottom: 1px solid gray;flex-grow: 1;}#sk-container-id-18 div.sk-label:hover label.sk-toggleable__label {background-color: #d4ebff;}#sk-container-id-18 div.sk-serial::before {content: \"\";position: absolute;border-left: 1px solid gray;box-sizing: border-box;top: 0;bottom: 0;left: 50%;z-index: 0;}#sk-container-id-18 div.sk-serial {display: flex;flex-direction: column;align-items: center;background-color: white;padding-right: 0.2em;padding-left: 0.2em;position: relative;}#sk-container-id-18 div.sk-item {position: relative;z-index: 1;}#sk-container-id-18 div.sk-parallel {display: flex;align-items: stretch;justify-content: center;background-color: white;position: relative;}#sk-container-id-18 div.sk-item::before, #sk-container-id-18 div.sk-parallel-item::before {content: \"\";position: absolute;border-left: 1px solid gray;box-sizing: border-box;top: 0;bottom: 0;left: 50%;z-index: -1;}#sk-container-id-18 div.sk-parallel-item {display: flex;flex-direction: column;z-index: 1;position: relative;background-color: white;}#sk-container-id-18 div.sk-parallel-item:first-child::after {align-self: flex-end;width: 50%;}#sk-container-id-18 div.sk-parallel-item:last-child::after {align-self: flex-start;width: 50%;}#sk-container-id-18 div.sk-parallel-item:only-child::after {width: 0;}#sk-container-id-18 div.sk-dashed-wrapped {border: 1px dashed gray;margin: 0 0.4em 0.5em 0.4em;box-sizing: border-box;padding-bottom: 0.4em;background-color: white;}#sk-container-id-18 div.sk-label label {font-family: monospace;font-weight: bold;display: inline-block;line-height: 1.2em;}#sk-container-id-18 div.sk-label-container {text-align: center;}#sk-container-id-18 div.sk-container {/* jupyter's `normalize.less` sets `[hidden] { display: none; }` but bootstrap.min.css set `[hidden] { display: none !important; }` so we also need the `!important` here to be able to override the default hidden behavior on the sphinx rendered scikit-learn.org. See: https://github.com/scikit-learn/scikit-learn/issues/21755 */display: inline-block !important;position: relative;}#sk-container-id-18 div.sk-text-repr-fallback {display: none;}</style><div id=\"sk-container-id-18\" class=\"sk-top-container\"><div class=\"sk-text-repr-fallback\"><pre>LogisticRegression(max_iter=5000)</pre><b>In a Jupyter environment, please rerun this cell to show the HTML representation or trust the notebook. <br />On GitHub, the HTML representation is unable to render, please try loading this page with nbviewer.org.</b></div><div class=\"sk-container\" hidden><div class=\"sk-item\"><div class=\"sk-estimator sk-toggleable\"><input class=\"sk-toggleable__control sk-hidden--visually\" id=\"sk-estimator-id-18\" type=\"checkbox\" checked><label for=\"sk-estimator-id-18\" class=\"sk-toggleable__label sk-toggleable__label-arrow\">LogisticRegression</label><div class=\"sk-toggleable__content\"><pre>LogisticRegression(max_iter=5000)</pre></div></div></div></div></div>"
      ],
      "text/plain": [
       "LogisticRegression(max_iter=5000)"
      ]
     },
     "execution_count": 147,
     "metadata": {},
     "output_type": "execute_result"
    }
   ],
   "source": [
    "#now we are using LogisticRegression on our handwritten digits dataset\n",
    "from sklearn.linear_model import LogisticRegression\n",
    "#when we don't use the max_iter then sometimes the default iteration in the algorithm is not sufficient to reach at the otimal solution so we use the\n",
    "#max_iter so that we could find the optimal solution n the provided iteration.\n",
    "lr = LogisticRegression(max_iter=5000)\n",
    "#this would give us the best fit line\n",
    "lr.fit(X_train,y_train)"
   ]
  },
  {
   "cell_type": "code",
   "execution_count": 148,
   "id": "1c632060-e15a-4460-9162-b35f9fac8606",
   "metadata": {},
   "outputs": [
    {
     "data": {
      "text/plain": [
       "1.0"
      ]
     },
     "execution_count": 148,
     "metadata": {},
     "output_type": "execute_result"
    }
   ],
   "source": [
    "lr.score(X_train,y_train)"
   ]
  },
  {
   "cell_type": "code",
   "execution_count": 149,
   "id": "fa2ff180-0881-4f46-b931-8a2a0586ff8e",
   "metadata": {},
   "outputs": [
    {
     "data": {
      "text/plain": [
       "0.975925925925926"
      ]
     },
     "execution_count": 149,
     "metadata": {},
     "output_type": "execute_result"
    }
   ],
   "source": [
    "lr.score(X_test,y_test)"
   ]
  },
  {
   "cell_type": "code",
   "execution_count": 150,
   "id": "1505efd9-ae37-4469-95cd-6f513c7a8ef7",
   "metadata": {},
   "outputs": [
    {
     "data": {
      "text/html": [
       "<style>#sk-container-id-19 {color: black;background-color: white;}#sk-container-id-19 pre{padding: 0;}#sk-container-id-19 div.sk-toggleable {background-color: white;}#sk-container-id-19 label.sk-toggleable__label {cursor: pointer;display: block;width: 100%;margin-bottom: 0;padding: 0.3em;box-sizing: border-box;text-align: center;}#sk-container-id-19 label.sk-toggleable__label-arrow:before {content: \"▸\";float: left;margin-right: 0.25em;color: #696969;}#sk-container-id-19 label.sk-toggleable__label-arrow:hover:before {color: black;}#sk-container-id-19 div.sk-estimator:hover label.sk-toggleable__label-arrow:before {color: black;}#sk-container-id-19 div.sk-toggleable__content {max-height: 0;max-width: 0;overflow: hidden;text-align: left;background-color: #f0f8ff;}#sk-container-id-19 div.sk-toggleable__content pre {margin: 0.2em;color: black;border-radius: 0.25em;background-color: #f0f8ff;}#sk-container-id-19 input.sk-toggleable__control:checked~div.sk-toggleable__content {max-height: 200px;max-width: 100%;overflow: auto;}#sk-container-id-19 input.sk-toggleable__control:checked~label.sk-toggleable__label-arrow:before {content: \"▾\";}#sk-container-id-19 div.sk-estimator input.sk-toggleable__control:checked~label.sk-toggleable__label {background-color: #d4ebff;}#sk-container-id-19 div.sk-label input.sk-toggleable__control:checked~label.sk-toggleable__label {background-color: #d4ebff;}#sk-container-id-19 input.sk-hidden--visually {border: 0;clip: rect(1px 1px 1px 1px);clip: rect(1px, 1px, 1px, 1px);height: 1px;margin: -1px;overflow: hidden;padding: 0;position: absolute;width: 1px;}#sk-container-id-19 div.sk-estimator {font-family: monospace;background-color: #f0f8ff;border: 1px dotted black;border-radius: 0.25em;box-sizing: border-box;margin-bottom: 0.5em;}#sk-container-id-19 div.sk-estimator:hover {background-color: #d4ebff;}#sk-container-id-19 div.sk-parallel-item::after {content: \"\";width: 100%;border-bottom: 1px solid gray;flex-grow: 1;}#sk-container-id-19 div.sk-label:hover label.sk-toggleable__label {background-color: #d4ebff;}#sk-container-id-19 div.sk-serial::before {content: \"\";position: absolute;border-left: 1px solid gray;box-sizing: border-box;top: 0;bottom: 0;left: 50%;z-index: 0;}#sk-container-id-19 div.sk-serial {display: flex;flex-direction: column;align-items: center;background-color: white;padding-right: 0.2em;padding-left: 0.2em;position: relative;}#sk-container-id-19 div.sk-item {position: relative;z-index: 1;}#sk-container-id-19 div.sk-parallel {display: flex;align-items: stretch;justify-content: center;background-color: white;position: relative;}#sk-container-id-19 div.sk-item::before, #sk-container-id-19 div.sk-parallel-item::before {content: \"\";position: absolute;border-left: 1px solid gray;box-sizing: border-box;top: 0;bottom: 0;left: 50%;z-index: -1;}#sk-container-id-19 div.sk-parallel-item {display: flex;flex-direction: column;z-index: 1;position: relative;background-color: white;}#sk-container-id-19 div.sk-parallel-item:first-child::after {align-self: flex-end;width: 50%;}#sk-container-id-19 div.sk-parallel-item:last-child::after {align-self: flex-start;width: 50%;}#sk-container-id-19 div.sk-parallel-item:only-child::after {width: 0;}#sk-container-id-19 div.sk-dashed-wrapped {border: 1px dashed gray;margin: 0 0.4em 0.5em 0.4em;box-sizing: border-box;padding-bottom: 0.4em;background-color: white;}#sk-container-id-19 div.sk-label label {font-family: monospace;font-weight: bold;display: inline-block;line-height: 1.2em;}#sk-container-id-19 div.sk-label-container {text-align: center;}#sk-container-id-19 div.sk-container {/* jupyter's `normalize.less` sets `[hidden] { display: none; }` but bootstrap.min.css set `[hidden] { display: none !important; }` so we also need the `!important` here to be able to override the default hidden behavior on the sphinx rendered scikit-learn.org. See: https://github.com/scikit-learn/scikit-learn/issues/21755 */display: inline-block !important;position: relative;}#sk-container-id-19 div.sk-text-repr-fallback {display: none;}</style><div id=\"sk-container-id-19\" class=\"sk-top-container\"><div class=\"sk-text-repr-fallback\"><pre>SVC()</pre><b>In a Jupyter environment, please rerun this cell to show the HTML representation or trust the notebook. <br />On GitHub, the HTML representation is unable to render, please try loading this page with nbviewer.org.</b></div><div class=\"sk-container\" hidden><div class=\"sk-item\"><div class=\"sk-estimator sk-toggleable\"><input class=\"sk-toggleable__control sk-hidden--visually\" id=\"sk-estimator-id-19\" type=\"checkbox\" checked><label for=\"sk-estimator-id-19\" class=\"sk-toggleable__label sk-toggleable__label-arrow\">SVC</label><div class=\"sk-toggleable__content\"><pre>SVC()</pre></div></div></div></div></div>"
      ],
      "text/plain": [
       "SVC()"
      ]
     },
     "execution_count": 150,
     "metadata": {},
     "output_type": "execute_result"
    }
   ],
   "source": [
    "#now we will use the support vector machine on  digits dataset.\n",
    "from sklearn.svm import SVC\n",
    "svc = SVC()  #instantiating the SVC\n",
    "svc.fit(X_train,y_train)"
   ]
  },
  {
   "cell_type": "code",
   "execution_count": 151,
   "id": "051e9379-d9fa-4b47-a178-86c033ae3f27",
   "metadata": {},
   "outputs": [
    {
     "data": {
      "text/plain": [
       "0.9976133651551312"
      ]
     },
     "execution_count": 151,
     "metadata": {},
     "output_type": "execute_result"
    }
   ],
   "source": [
    "svc.score(X_train,y_train)"
   ]
  },
  {
   "cell_type": "code",
   "execution_count": 152,
   "id": "77d54aba-563a-4317-9715-69c8331e8e3e",
   "metadata": {},
   "outputs": [
    {
     "data": {
      "text/plain": [
       "0.9907407407407407"
      ]
     },
     "execution_count": 152,
     "metadata": {},
     "output_type": "execute_result"
    }
   ],
   "source": [
    "svc.score(X_test,y_test)   #here the score is more than the linear regression model score"
   ]
  },
  {
   "cell_type": "code",
   "execution_count": 153,
   "id": "05a2515a-14f2-4474-a49d-10c2bc93771f",
   "metadata": {},
   "outputs": [
    {
     "data": {
      "text/html": [
       "<style>#sk-container-id-20 {color: black;background-color: white;}#sk-container-id-20 pre{padding: 0;}#sk-container-id-20 div.sk-toggleable {background-color: white;}#sk-container-id-20 label.sk-toggleable__label {cursor: pointer;display: block;width: 100%;margin-bottom: 0;padding: 0.3em;box-sizing: border-box;text-align: center;}#sk-container-id-20 label.sk-toggleable__label-arrow:before {content: \"▸\";float: left;margin-right: 0.25em;color: #696969;}#sk-container-id-20 label.sk-toggleable__label-arrow:hover:before {color: black;}#sk-container-id-20 div.sk-estimator:hover label.sk-toggleable__label-arrow:before {color: black;}#sk-container-id-20 div.sk-toggleable__content {max-height: 0;max-width: 0;overflow: hidden;text-align: left;background-color: #f0f8ff;}#sk-container-id-20 div.sk-toggleable__content pre {margin: 0.2em;color: black;border-radius: 0.25em;background-color: #f0f8ff;}#sk-container-id-20 input.sk-toggleable__control:checked~div.sk-toggleable__content {max-height: 200px;max-width: 100%;overflow: auto;}#sk-container-id-20 input.sk-toggleable__control:checked~label.sk-toggleable__label-arrow:before {content: \"▾\";}#sk-container-id-20 div.sk-estimator input.sk-toggleable__control:checked~label.sk-toggleable__label {background-color: #d4ebff;}#sk-container-id-20 div.sk-label input.sk-toggleable__control:checked~label.sk-toggleable__label {background-color: #d4ebff;}#sk-container-id-20 input.sk-hidden--visually {border: 0;clip: rect(1px 1px 1px 1px);clip: rect(1px, 1px, 1px, 1px);height: 1px;margin: -1px;overflow: hidden;padding: 0;position: absolute;width: 1px;}#sk-container-id-20 div.sk-estimator {font-family: monospace;background-color: #f0f8ff;border: 1px dotted black;border-radius: 0.25em;box-sizing: border-box;margin-bottom: 0.5em;}#sk-container-id-20 div.sk-estimator:hover {background-color: #d4ebff;}#sk-container-id-20 div.sk-parallel-item::after {content: \"\";width: 100%;border-bottom: 1px solid gray;flex-grow: 1;}#sk-container-id-20 div.sk-label:hover label.sk-toggleable__label {background-color: #d4ebff;}#sk-container-id-20 div.sk-serial::before {content: \"\";position: absolute;border-left: 1px solid gray;box-sizing: border-box;top: 0;bottom: 0;left: 50%;z-index: 0;}#sk-container-id-20 div.sk-serial {display: flex;flex-direction: column;align-items: center;background-color: white;padding-right: 0.2em;padding-left: 0.2em;position: relative;}#sk-container-id-20 div.sk-item {position: relative;z-index: 1;}#sk-container-id-20 div.sk-parallel {display: flex;align-items: stretch;justify-content: center;background-color: white;position: relative;}#sk-container-id-20 div.sk-item::before, #sk-container-id-20 div.sk-parallel-item::before {content: \"\";position: absolute;border-left: 1px solid gray;box-sizing: border-box;top: 0;bottom: 0;left: 50%;z-index: -1;}#sk-container-id-20 div.sk-parallel-item {display: flex;flex-direction: column;z-index: 1;position: relative;background-color: white;}#sk-container-id-20 div.sk-parallel-item:first-child::after {align-self: flex-end;width: 50%;}#sk-container-id-20 div.sk-parallel-item:last-child::after {align-self: flex-start;width: 50%;}#sk-container-id-20 div.sk-parallel-item:only-child::after {width: 0;}#sk-container-id-20 div.sk-dashed-wrapped {border: 1px dashed gray;margin: 0 0.4em 0.5em 0.4em;box-sizing: border-box;padding-bottom: 0.4em;background-color: white;}#sk-container-id-20 div.sk-label label {font-family: monospace;font-weight: bold;display: inline-block;line-height: 1.2em;}#sk-container-id-20 div.sk-label-container {text-align: center;}#sk-container-id-20 div.sk-container {/* jupyter's `normalize.less` sets `[hidden] { display: none; }` but bootstrap.min.css set `[hidden] { display: none !important; }` so we also need the `!important` here to be able to override the default hidden behavior on the sphinx rendered scikit-learn.org. See: https://github.com/scikit-learn/scikit-learn/issues/21755 */display: inline-block !important;position: relative;}#sk-container-id-20 div.sk-text-repr-fallback {display: none;}</style><div id=\"sk-container-id-20\" class=\"sk-top-container\"><div class=\"sk-text-repr-fallback\"><pre>RandomForestClassifier(n_estimators=75)</pre><b>In a Jupyter environment, please rerun this cell to show the HTML representation or trust the notebook. <br />On GitHub, the HTML representation is unable to render, please try loading this page with nbviewer.org.</b></div><div class=\"sk-container\" hidden><div class=\"sk-item\"><div class=\"sk-estimator sk-toggleable\"><input class=\"sk-toggleable__control sk-hidden--visually\" id=\"sk-estimator-id-20\" type=\"checkbox\" checked><label for=\"sk-estimator-id-20\" class=\"sk-toggleable__label sk-toggleable__label-arrow\">RandomForestClassifier</label><div class=\"sk-toggleable__content\"><pre>RandomForestClassifier(n_estimators=75)</pre></div></div></div></div></div>"
      ],
      "text/plain": [
       "RandomForestClassifier(n_estimators=75)"
      ]
     },
     "execution_count": 153,
     "metadata": {},
     "output_type": "execute_result"
    }
   ],
   "source": [
    "#now we want to use the RandomForestClassifier in the handwritten digits dataset\n",
    "from sklearn.ensemble import RandomForestClassifier\n",
    "Rfc = RandomForestClassifier(n_estimators=75)   \n",
    "#n_estimators is used to increase the tree in the RandomForestClassifier\n",
    "Rfc.fit(X_train,y_train)"
   ]
  },
  {
   "cell_type": "code",
   "execution_count": 154,
   "id": "6b9c9a91-2c3e-4b62-b53c-618faf28001f",
   "metadata": {},
   "outputs": [
    {
     "data": {
      "text/plain": [
       "1.0"
      ]
     },
     "execution_count": 154,
     "metadata": {},
     "output_type": "execute_result"
    }
   ],
   "source": [
    "Rfc.score(X_train,y_train)"
   ]
  },
  {
   "cell_type": "code",
   "execution_count": 155,
   "id": "6e33af0b-ada0-4e34-9fcd-245db2a33a11",
   "metadata": {},
   "outputs": [
    {
     "data": {
      "text/plain": [
       "0.9740740740740741"
      ]
     },
     "execution_count": 155,
     "metadata": {},
     "output_type": "execute_result"
    }
   ],
   "source": [
    "Rfc.score(X_test,y_test)"
   ]
  },
  {
   "cell_type": "markdown",
   "id": "6e569e7f-8fe9-4964-885a-b79f044dd0d1",
   "metadata": {},
   "source": [
    "#here s we can see that the svc model was showing more accuracy while predicting the actual dataset but when we run the model's again svc is showing less accuracy(less r2 score(coefficient of determinant)).\n",
    "<br>#here as we can see that the train_test_split model, randomly splits the dataset into training data and testing data, so each time the score(r2(coefficient of determinant)) would be different, becaus here it will choose the random data for training and testing. So, that is why we use the K fold cross validation machine learning algorithm because it would first splits the dataset into K fold samples of data and then it will take the each fold as test data for exctly one time in each iteration."
   ]
  },
  {
   "cell_type": "markdown",
   "id": "41773971-7237-4784-9227-f39f93549ada",
   "metadata": {},
   "source": [
    "<mark>#So if we do the intutive thinking we would get to kow that if we run the prticular model(for ex. LinearRegression) 10 times, and if we average out the 10 result outcomes of the LinearRegression model then we can have a better result and this is what the K fold cross validation does with the dataset"
   ]
  },
  {
   "cell_type": "code",
   "execution_count": 172,
   "id": "c356de4e-3c21-4a20-a552-69ae0b0cb144",
   "metadata": {},
   "outputs": [],
   "source": [
    "#so now we are using the K folf cross validation model, it is just like the train_test_split model\n",
    "from sklearn.model_selection import KFold\n",
    "#instantiating the object\n",
    "kf = KFold(n_splits=3) #here n_splits means folds(in how many parts we have to divide the dataset into)."
   ]
  },
  {
   "cell_type": "code",
   "execution_count": 174,
   "id": "c98986a9-635f-4d7e-9240-2f366f7b5a01",
   "metadata": {},
   "outputs": [
    {
     "data": {
      "text/plain": [
       "<generator object _BaseKFold.split at 0x000001626940A440>"
      ]
     },
     "execution_count": 174,
     "metadata": {},
     "output_type": "execute_result"
    }
   ],
   "source": [
    "#here we are giving the data set from 1 to 9 and using the split function, so as we have already chose how many splits we want so it will split the data \n",
    "#into 3 splits\n",
    "kf.split([1,2,3,4,5,6,7,8,9])"
   ]
  },
  {
   "cell_type": "code",
   "execution_count": 180,
   "id": "cb5c722f-609c-45e7-a431-3435eb959dee",
   "metadata": {},
   "outputs": [
    {
     "name": "stdout",
     "output_type": "stream",
     "text": [
      "[3 4 5 6 7 8] [0 1 2]\n",
      "[0 1 2 6 7 8] [3 4 5]\n",
      "[0 1 2 3 4 5] [6 7 8]\n"
     ]
    }
   ],
   "source": [
    "#here the 1-d ARRAY HAS GOT INTO GENERATOR, so we can attend this generator into a for loop\n",
    "for train_index,test_index in kf.split([1,2,3,4,5,6,7,8,9]):\n",
    "    print(train_index,test_index)\n",
    "#so here th data has been split into 3 splits/folds(2 train data and 1 test data)"
   ]
  },
  {
   "cell_type": "code",
   "execution_count": 190,
   "id": "0886cf25-4c2a-4413-aa97-943971ffd550",
   "metadata": {},
   "outputs": [],
   "source": [
    "#here we will use the utility function, so that we don't have to write the coe for object instatiation, model.fit and model.score. so we can write all the\n",
    "#codes in one line.\n",
    "\n",
    "#here we are defining a function and it is taking two parameters model(which will take any model) and spliting the train and test data\n",
    "def get_score(model,X_train,X_test,y_train,y_test):\n",
    "    model.fit(X_train,y_train)\n",
    "    return model.score(X_test,y_test)"
   ]
  },
  {
   "cell_type": "code",
   "execution_count": 192,
   "id": "6b0c5f9e-a207-4cb2-937e-cc6cb4b42332",
   "metadata": {},
   "outputs": [
    {
     "data": {
      "text/plain": [
       "0.9907407407407407"
      ]
     },
     "execution_count": 192,
     "metadata": {},
     "output_type": "execute_result"
    }
   ],
   "source": [
    "#checking the score by SVC model\n",
    "get_score(SVC(),X_train,X_test,y_train,y_test)"
   ]
  },
  {
   "cell_type": "code",
   "execution_count": 196,
   "id": "263255dc-844f-4c9b-874a-5d1d29519b13",
   "metadata": {},
   "outputs": [
    {
     "data": {
      "text/plain": [
       "0.5937211508291627"
      ]
     },
     "execution_count": 196,
     "metadata": {},
     "output_type": "execute_result"
    }
   ],
   "source": [
    "#checking the score by LinearRegression model\n",
    "from sklearn.linear_model import LinearRegression\n",
    "get_score(LinearRegression(),X_train,X_test,y_train,y_test)"
   ]
  },
  {
   "cell_type": "code",
   "execution_count": 198,
   "id": "a05a3622-18ba-4d7a-9231-c12614e7e696",
   "metadata": {},
   "outputs": [
    {
     "data": {
      "text/plain": [
       "0.975925925925926"
      ]
     },
     "execution_count": 198,
     "metadata": {},
     "output_type": "execute_result"
    }
   ],
   "source": [
    "#checking the score by RandomForestClassifier model\n",
    "get_score(RandomForestClassifier(),X_train,X_test,y_train,y_test)"
   ]
  },
  {
   "cell_type": "code",
   "execution_count": 226,
   "id": "f8868627-3697-4ee7-9f76-6de7d0e981a3",
   "metadata": {},
   "outputs": [],
   "source": [
    "#Now we will evaluate the all three machine learning algoritms accuract by using the KFold cross validation.\n",
    "from sklearn.model_selection import StratifiedKFold\n",
    "#StatifiedKfold is same as starify but in KFold.\n",
    "\n",
    "#creating the empty variables to append the scores.\n",
    "scores_svc = []\n",
    "scores_lr = []\n",
    "scores_rfc = []\n",
    "scores_logisticr = []\n",
    "\n",
    "SKF = StratifiedKFold(n_splits=3)   #instantiating the object\n",
    "\n",
    "for train_index,test_index in SKF.split(digits.data,digits.target):    #here X=digits.data and y=digits.target\n",
    "    X_train,X_test,y_train,y_test = digits.data[train_index], digits.data[test_index], digits.target[train_index], digits.target[test_index]\n",
    "\n",
    "    scores_svc.append(get_score(SVC(),X_train,X_test,y_train,y_test))\n",
    "    scores_lr.append(get_score(LinearRegression(),X_train,X_test,y_train,y_test))\n",
    "    scores_rfc.append(get_score(RandomForestClassifier(n_estimators=10),X_train,X_test,y_train,y_test))\n",
    "    scores_logisticr.append(get_score(LogisticRegression(max_iter=5000),X_train,X_test,y_train,y_test))\n",
    "    #here we are using max_iter=5000 for iteration so that the algorithm can reach to the optimal solution"
   ]
  },
  {
   "cell_type": "code",
   "execution_count": 227,
   "id": "7c2cce06-479b-44b3-b2cb-145d5ffb7a2a",
   "metadata": {},
   "outputs": [
    {
     "data": {
      "text/plain": [
       "[0.9649415692821369, 0.9799666110183639, 0.9649415692821369]"
      ]
     },
     "execution_count": 227,
     "metadata": {},
     "output_type": "execute_result"
    }
   ],
   "source": [
    "#now we are checking the  scores\n",
    "scores_svc\n",
    "#here we are having three values because we have chose the n_splits=3, so we''ll have each split data score and then we have to aggregate the scores by \n",
    "#taking average."
   ]
  },
  {
   "cell_type": "code",
   "execution_count": 228,
   "id": "1c2db18e-2f14-45cb-b01a-e879d3057be7",
   "metadata": {},
   "outputs": [
    {
     "data": {
      "text/plain": [
       "[0.5170851293958862, 0.5656905210689881, 0.4196685566691434]"
      ]
     },
     "execution_count": 228,
     "metadata": {},
     "output_type": "execute_result"
    }
   ],
   "source": [
    "scores_lr"
   ]
  },
  {
   "cell_type": "code",
   "execution_count": 229,
   "id": "6613f75e-7247-4d8f-abda-27179857a4d3",
   "metadata": {},
   "outputs": [
    {
     "data": {
      "text/plain": [
       "[0.8831385642737897, 0.9215358931552587, 0.8964941569282137]"
      ]
     },
     "execution_count": 229,
     "metadata": {},
     "output_type": "execute_result"
    }
   ],
   "source": [
    "scores_rfc"
   ]
  },
  {
   "cell_type": "code",
   "execution_count": 230,
   "id": "433e26c6-9502-4544-bc59-2cbc549d390a",
   "metadata": {},
   "outputs": [
    {
     "data": {
      "text/plain": [
       "[0.9248747913188647, 0.9398998330550918, 0.9232053422370617]"
      ]
     },
     "execution_count": 230,
     "metadata": {},
     "output_type": "execute_result"
    }
   ],
   "source": [
    "scores_logisticr"
   ]
  },
  {
   "cell_type": "code",
   "execution_count": null,
   "id": "6ac06187-4751-423f-b582-70ff95a5b7e7",
   "metadata": {},
   "outputs": [],
   "source": []
  },
  {
   "cell_type": "code",
   "execution_count": null,
   "id": "787e008e-7772-4285-8d80-97a2d4e17efd",
   "metadata": {},
   "outputs": [],
   "source": []
  },
  {
   "cell_type": "markdown",
   "id": "2b144e46-0542-4fc9-97e1-d0d6f939a5a4",
   "metadata": {},
   "source": [
    "#here this was all for learning purpose what we have written in the for loop and we can perform this for loop programm by importing just one library from sklearn."
   ]
  },
  {
   "cell_type": "code",
   "execution_count": 239,
   "id": "f6408b3d-81cc-4976-8b97-ae35a2d7494a",
   "metadata": {},
   "outputs": [],
   "source": [
    "from sklearn.model_selection import cross_val_score"
   ]
  },
  {
   "cell_type": "code",
   "execution_count": 255,
   "id": "73befe6e-906a-42dd-b25a-20ad8fd82e7e",
   "metadata": {},
   "outputs": [
    {
     "data": {
      "text/plain": [
       "array([0.96111111, 0.94444444, 0.98328691, 0.98885794, 0.93871866])"
      ]
     },
     "execution_count": 255,
     "metadata": {},
     "output_type": "execute_result"
    }
   ],
   "source": [
    "#checking the score of digits dataset by support vector machine\n",
    "cross_val_score(SVC(),digits.data,digits.target, cv=5)   #cv parameter changes splits(KFolds) in cross_val_score bydefault splits(cv) value is 5.\n",
    "# X=digits.data and y=digits.target"
   ]
  },
  {
   "cell_type": "code",
   "execution_count": 257,
   "id": "7d62e725-4ece-41aa-bf1b-2d562df4c44e",
   "metadata": {},
   "outputs": [
    {
     "data": {
      "text/plain": [
       "array([0.925     , 0.87777778, 0.93871866, 0.93593315, 0.89693593])"
      ]
     },
     "execution_count": 257,
     "metadata": {},
     "output_type": "execute_result"
    }
   ],
   "source": [
    "#checking the score of digits dataset by LogisticRegression \n",
    "cross_val_score(LogisticRegression(max_iter=5000),digits.data,digits.target, cv=5)"
   ]
  },
  {
   "cell_type": "code",
   "execution_count": 283,
   "id": "4b9d0073-05a0-4d3d-b5fc-39a5f8f21e4b",
   "metadata": {},
   "outputs": [
    {
     "data": {
      "text/plain": [
       "array([0.925     , 0.89722222, 0.96100279, 0.96100279, 0.91364903])"
      ]
     },
     "execution_count": 283,
     "metadata": {},
     "output_type": "execute_result"
    }
   ],
   "source": [
    "#checking the score of digits dataset by RandomForestClassifier\n",
    "scorerfc0 = cross_val_score(RandomForestClassifier(n_estimators=40),digits.data,digits.target, cv=5)    #n_estimators=40 will give us more trees in random forest.\n",
    "scorerfc0"
   ]
  },
  {
   "cell_type": "code",
   "execution_count": 284,
   "id": "e57823f4-5ef6-49b1-9c6b-41e806e6972f",
   "metadata": {},
   "outputs": [
    {
     "data": {
      "text/plain": [
       "0.9315753636645002"
      ]
     },
     "execution_count": 284,
     "metadata": {},
     "output_type": "execute_result"
    }
   ],
   "source": [
    "np.average(scorerfc0)"
   ]
  },
  {
   "cell_type": "code",
   "execution_count": 267,
   "id": "f58976f6-2edc-4f71-868e-f0e384becd05",
   "metadata": {},
   "outputs": [
    {
     "data": {
      "text/plain": [
       "0.938252862890746"
      ]
     },
     "execution_count": 267,
     "metadata": {},
     "output_type": "execute_result"
    }
   ],
   "source": [
    "#now we want to see how many trees to take(by n_estimators= ) in the random forest classifier.\n",
    "import numpy as np\n",
    "scoresrfc = cross_val_score(RandomForestClassifier(n_estimators=50),digits.data,digits.target, cv=5)\n",
    "np.average(scoresrfc)"
   ]
  },
  {
   "cell_type": "code",
   "execution_count": 269,
   "id": "1dde7c23-1fb1-44a9-97b7-24cf1378f688",
   "metadata": {},
   "outputs": [
    {
     "data": {
      "text/plain": [
       "0.9343500464252553"
      ]
     },
     "execution_count": 269,
     "metadata": {},
     "output_type": "execute_result"
    }
   ],
   "source": [
    "scoresrfc = cross_val_score(RandomForestClassifier(n_estimators=70),digits.data,digits.target, cv=5)\n",
    "np.average(scoresrfc)"
   ]
  },
  {
   "cell_type": "code",
   "execution_count": 271,
   "id": "83944968-8b21-4f57-a0b2-3630b37da294",
   "metadata": {},
   "outputs": [
    {
     "data": {
      "text/plain": [
       "0.9365800061900341"
      ]
     },
     "execution_count": 271,
     "metadata": {},
     "output_type": "execute_result"
    }
   ],
   "source": [
    "scoresrfc = cross_val_score(RandomForestClassifier(n_estimators=85),digits.data,digits.target, cv=5)\n",
    "np.average(scoresrfc)"
   ]
  },
  {
   "cell_type": "code",
   "execution_count": 275,
   "id": "46a17bec-4b6f-48a2-8ec4-babdfddbb83e",
   "metadata": {},
   "outputs": [
    {
     "data": {
      "text/plain": [
       "0.9388084184463015"
      ]
     },
     "execution_count": 275,
     "metadata": {},
     "output_type": "execute_result"
    }
   ],
   "source": [
    "scoresrfc = cross_val_score(RandomForestClassifier(n_estimators=200),digits.data,digits.target, cv=5)\n",
    "np.average(scoresrfc)"
   ]
  },
  {
   "cell_type": "code",
   "execution_count": 276,
   "id": "2ba4fc8f-1290-4d9a-9648-a8f39078ce04",
   "metadata": {},
   "outputs": [
    {
     "data": {
      "text/plain": [
       "0.9382559579077684"
      ]
     },
     "execution_count": 276,
     "metadata": {},
     "output_type": "execute_result"
    }
   ],
   "source": [
    "scoresrfc = cross_val_score(RandomForestClassifier(n_estimators=66),digits.data,digits.target, cv=5)\n",
    "np.average(scoresrfc)"
   ]
  },
  {
   "cell_type": "code",
   "execution_count": 279,
   "id": "db96f8d5-dc2d-40e8-ac41-e651137490f4",
   "metadata": {},
   "outputs": [
    {
     "data": {
      "text/plain": [
       "0.9299164345403899"
      ]
     },
     "execution_count": 279,
     "metadata": {},
     "output_type": "execute_result"
    }
   ],
   "source": [
    "scoresrfc = cross_val_score(RandomForestClassifier(n_estimators=28),digits.data,digits.target, cv=5)\n",
    "np.average(scoresrfc)"
   ]
  },
  {
   "cell_type": "markdown",
   "id": "95ec5dbd-bdcc-4e43-a2c9-52793ebfbb1f",
   "metadata": {},
   "source": [
    "so the random forest classifier with 200 trees(n_estimators=200) is better model to classify the data with"
   ]
  },
  {
   "cell_type": "code",
   "execution_count": null,
   "id": "9815f9b0-e7d9-4a19-ba28-66223de0456b",
   "metadata": {},
   "outputs": [],
   "source": []
  }
 ],
 "metadata": {
  "kernelspec": {
   "display_name": "Python 3 (ipykernel)",
   "language": "python",
   "name": "python3"
  },
  "language_info": {
   "codemirror_mode": {
    "name": "ipython",
    "version": 3
   },
   "file_extension": ".py",
   "mimetype": "text/x-python",
   "name": "python",
   "nbconvert_exporter": "python",
   "pygments_lexer": "ipython3",
   "version": "3.11.7"
  }
 },
 "nbformat": 4,
 "nbformat_minor": 5
}
